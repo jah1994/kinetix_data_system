{
 "cells": [
  {
   "cell_type": "code",
   "execution_count": 23,
   "metadata": {},
   "outputs": [],
   "source": [
    "# imports\n",
    "import os\n",
    "import numpy as np\n",
    "import matplotlib.pyplot as plt\n",
    "from tqdm import tqdm\n",
    "from wpca import WPCA # JVDP's weighted PCA library\n",
    "%matplotlib inline"
   ]
  },
  {
   "cell_type": "code",
   "execution_count": 2,
   "metadata": {},
   "outputs": [],
   "source": [
    "def ccd_noise_equation(t, n_star, be, de, rho, npix, pb):\n",
    "    '''\n",
    "    t: exposure time (s)\n",
    "    n_star: photons per t (e- . s^-1)\n",
    "    be: background rate (e- . s^-1 . per pix)\n",
    "    de: dark rate (e- . s^-1 . per pix)\n",
    "    rho: readout noise (e-)\n",
    "    npix: number of source aperture pixels\n",
    "    pb: sky section pixels\n",
    "    '''\n",
    "    signal = n_star * t\n",
    "    shot_and_dark_var = t * (n_star + npix*(1 + (npix/pb))*(be + de))\n",
    "    read_var = npix * (1 + (npix / pb)) * (rho**2)\n",
    "    noise = np.sqrt(shot_and_dark_var + read_var)\n",
    "    return signal / noise"
   ]
  },
  {
   "cell_type": "code",
   "execution_count": 3,
   "metadata": {},
   "outputs": [],
   "source": [
    "def ccd_noise_equation(t, n_star, be, de, rho, npix, pb,\n",
    "                      D, gamma, h_obs, H=8000):\n",
    "    '''\n",
    "    t: exposure time (s)\n",
    "    n_star: photons per t (e- . s^-1)\n",
    "    be: background rate (e- . s^-1 . per pix)\n",
    "    de: dark rate (e- . s^-1 . per pix)\n",
    "    rho: readout noise (e-)\n",
    "    npix: number of source aperture pixels\n",
    "    pb: sky section pixels\n",
    "    '''\n",
    "    signal = n_star * t\n",
    "    shot_and_dark_var = t * (n_star + npix*(1 + (npix/pb))*(be + de))\n",
    "    #shot_and_dark_var = signal + npix * (t * de)\n",
    "    read_var = npix * (1 + (npix / pb)) * (rho**2)\n",
    "    scint_var = 9e-6 * (D ** (-4/3)) * (1/t) * (np.cos(gamma) ** -3) * np.exp(-2 * h_obs / H)\n",
    "    #print(np.sqrt(shot_and_dark_var), signal * np.sqrt(scint_var))\n",
    "    noise = np.sqrt(shot_and_dark_var + read_var + (signal**2 * scint_var))\n",
    "    return signal / noise"
   ]
  },
  {
   "cell_type": "code",
   "execution_count": 4,
   "metadata": {},
   "outputs": [],
   "source": [
    "def emccd_noise_equation(t, n_star, be, c, rho, G, npix, pb,\n",
    "                      D, gamma, h_obs, H=8000):\n",
    "    '''\n",
    "    t: exposure time (s)\n",
    "    n_star: photons per t (e- . s^-1)\n",
    "    be: background rate (e- . s^-1 . per pix)\n",
    "    c: spurious charge (e- . s^-1 . per pix)\n",
    "    rho: readout noise (e_EM-)\n",
    "    G: EM gain (e_EM / e-)\n",
    "    npix: number of source aperture pixels\n",
    "    pb: sky section pixels\n",
    "    '''\n",
    "    signal = n_star * t\n",
    "    shot_and_dark_var = t * (n_star + npix*(1 + (npix/pb))*(be + c))\n",
    "    scint_var = 9e-6 * (D ** (-4/3)) * (1/t) * (np.cos(gamma) ** -3) * np.exp(-2 * h_obs / H)\n",
    "    read_var = npix * (1 + (npix / pb)) * (rho / G) ** 2\n",
    "    noise = np.sqrt(2 * (shot_and_dark_var) + read_var + (signal**2 * scint_var))\n",
    "    return signal / noise"
   ]
  },
  {
   "cell_type": "code",
   "execution_count": 5,
   "metadata": {},
   "outputs": [],
   "source": [
    "## computing n_star\n",
    "# mVega = 0\n",
    "#flam_Vega = 3.61e-11 # W m-2 nm-1 (V-band)\n",
    "#lam = 550e-9 # nm (V-band)\n",
    "\n",
    "flam_Vega = 2.177e-11 # W m-2 nm-1 (R-band)\n",
    "mVega = 0.07 # (R-band)\n",
    "lam = 644e-9 # nm (R-band)\n",
    "\n",
    "def photon_rate(mag, mref, fref, lam, h=6.63e-34, c=3e8):\n",
    "    \n",
    "    '''\n",
    "    mag: magnitude of target\n",
    "    fref: monochromatic reference flux at lam\n",
    "    lam: effective wavelength [m]\n",
    "    h: planck constant\n",
    "    c: speed of light\n",
    "    '''\n",
    "\n",
    "    # mref = 0 by definition\n",
    "    #flux = fref * (10 ** (mag / (-2.5)))\n",
    "    flux = fref * 10**(0.4 * (mref - mag))\n",
    "    \n",
    "    # number of photons in s-1 . m-2 . nm-1\n",
    "    n_ = flux * lam / (h * c)\n",
    "    \n",
    "    return n_\n",
    "    \n",
    "def telescope_photon_rate(n_, D, del_lam=86, q=1):\n",
    "    '''\n",
    "    n_: photon rate\n",
    "    D: telescope mirror diameter [m]\n",
    "    del_lam: bandwidth [nm]\n",
    "    q: overall efficiency (telscope/instrument/filter/detector)\n",
    "    '''\n",
    "    return n_ * np.pi * (D/2)**2 * del_lam * q"
   ]
  },
  {
   "cell_type": "code",
   "execution_count": 6,
   "metadata": {},
   "outputs": [],
   "source": [
    "from astropy.io import fits\n",
    "import numpy as np\n",
    "hdul0 = fits.open('C:/Users/James/kinetix_data_system/lab_tests/data_system_lab/notebooks/snr_references/new-image.fits')\n",
    "hdul1 = fits.open('C:/Users/James/kinetix_data_system/lab_tests/data_system_lab/notebooks/snr_references/new-image_speed.fits')"
   ]
  },
  {
   "cell_type": "code",
   "execution_count": 7,
   "metadata": {},
   "outputs": [],
   "source": [
    "from astropy.wcs import WCS\n",
    "from astroquery.vizier import Vizier\n",
    "from astroquery.gaia import Gaia\n",
    "from astropy.coordinates import Angle\n",
    "import astropy.coordinates as coord\n",
    "from astropy.coordinates import SkyCoord\n",
    "import astropy.units as u\n",
    "from astropy.stats import mad_std\n",
    "\n",
    "def Xmatch(hdul, pos_path):\n",
    "    \n",
    "    w = WCS(hdul[0].header)\n",
    "\n",
    "    # load source positions (x,y)\n",
    "    pos = np.load(pos_path)\n",
    "    \n",
    "    print(pos.shape)\n",
    "\n",
    "    # convert to RA and DEC\n",
    "    coords = w.pixel_to_world(pos[:,0], pos[:,1])\n",
    "    \n",
    "    ra = []\n",
    "    dec = []\n",
    "    for crd in coords:\n",
    "        ra.append(crd.ra.deg)\n",
    "        dec.append(crd.dec.deg)\n",
    "        \n",
    "\n",
    "    # pull catalogue information and X-match\n",
    "    # catalogue output row limit\n",
    "    Vizier.ROW_LIMIT = 100000\n",
    "\n",
    "\n",
    "    result = Vizier.query_region(coord.ICRS(ra=282.769*u.deg, dec=-6.278*u.deg),\n",
    "                     radius=Angle(0.08, \"deg\"),\n",
    "                     catalog='PanSTARRS')\n",
    "    \n",
    "    print(result)\n",
    "\n",
    "\n",
    "    # catalogue\n",
    "    cat = result[0]\n",
    "\n",
    "    # catalogue coordinates\n",
    "    ref_ra, ref_dec = cat['RAJ2000'], cat['DEJ2000']\n",
    "\n",
    "    ## X-match! ##\n",
    "    print('Starting Xmatch...')\n",
    "    i=0 # SExtractor index\n",
    "\n",
    "    output = np.zeros((0,3))\n",
    "    for i in range(0, len(ra)):\n",
    "        delta_ra = abs((ra[i]-ref_ra)*np.cos(dec[i]*np.pi/180))\n",
    "        delta_dec = abs(dec[i] - ref_dec)\n",
    "        separations = np.array([])\n",
    "        cat_index = np.array([])\n",
    "        separations = np.sqrt(delta_ra**2 + delta_dec**2)\n",
    "        cat_index = np.arange(0, len(delta_ra), 1)\n",
    "        best_match = cat_index[np.where(separations == np.min(separations))][0]\n",
    "        output = np.append(output,[[i, best_match, np.min(separations)]], axis=0)\n",
    "        i+=1\n",
    "\n",
    "    ## reject sources that don't meet tolerance condition ##\n",
    "    tol = 2./3600\n",
    "\n",
    "    output = output[np.where(output[:,2] <= tol)]\n",
    "    print('Number of matched sources:', len(output))\n",
    "    \n",
    "    rmags = cat['rmag'][output[:,1].astype(int)]\n",
    "    gmags = cat['gmag'][output[:,1].astype(int)]\n",
    "    \n",
    "    return rmags, gmags, output"
   ]
  },
  {
   "cell_type": "code",
   "execution_count": 8,
   "metadata": {},
   "outputs": [
    {
     "name": "stdout",
     "output_type": "stream",
     "text": [
      "(282, 2)\n",
      "TableList with 1 tables:\n",
      "\t'0:II/349/ps1' with 35 column(s) and 16200 row(s) \n",
      "Starting Xmatch...\n",
      "Number of matched sources: 282\n",
      "(269, 2)\n",
      "TableList with 1 tables:\n",
      "\t'0:II/349/ps1' with 35 column(s) and 16200 row(s) \n",
      "Starting Xmatch...\n",
      "Number of matched sources: 269\n"
     ]
    }
   ],
   "source": [
    "pospath0 = \"E:/McDonald backups/results_M11_Sept20_2/positions.npy\"\n",
    "pospath1 = \"E:/McDonald backups/results_M11_Sept20_speed3/positions.npy\"\n",
    "rmags0, gmags0, output0 = Xmatch(hdul0, pospath0)\n",
    "rmags1, gmags1, output1 = Xmatch(hdul1, pospath1)"
   ]
  },
  {
   "cell_type": "code",
   "execution_count": 9,
   "metadata": {},
   "outputs": [
    {
     "data": {
      "text/plain": [
       "(282, 269, 282, 269, 282, 269)"
      ]
     },
     "execution_count": 9,
     "metadata": {},
     "output_type": "execute_result"
    }
   ],
   "source": [
    "len(rmags0), len(rmags1), len(gmags0), len(gmags1), len(output0), len(output1)"
   ]
  },
  {
   "cell_type": "code",
   "execution_count": 10,
   "metadata": {},
   "outputs": [],
   "source": [
    "#s = [s for d, s, f in os.walk('McDonald backups')][0]\n",
    "subdirs = [s for d, s, f in os.walk('E:/McDonald backups') ][0]\n",
    "subdirs = [s for s in subdirs if 'results' in s ]"
   ]
  },
  {
   "cell_type": "code",
   "execution_count": 35,
   "metadata": {},
   "outputs": [],
   "source": [
    "# number of PCA components to be used by the model\n",
    "N_COMPONENTS = 8\n",
    "\n",
    "# size of chunks for which to slice up the light curve to fit it into computer memory\n",
    "CHUNK_SIZE = 2500\n",
    "\n",
    "def compute_snr(path, rmags, output, ap_diam):\n",
    "    # load data and generate a matrix of observations\n",
    "    #path = '/media/jah94/Seagate_Expansion_Drive#2/McDonald backups/results_M11_Sept20_2'\n",
    "\n",
    "    files = [f for d, s, f in os.walk(path)][0]\n",
    "\n",
    "    # order the files\n",
    "    phot_files = []\n",
    "    seq_files = []\n",
    "    sky_files = []\n",
    "    batch_ids = np.arange(0, 1000).astype(str)\n",
    "    for b in batch_ids:\n",
    "        for f in files:\n",
    "            if 'photometry' in f and 'batch' + b + '.npy' in f:\n",
    "                phot_files.append(f)\n",
    "            elif 'seq' in f and 'batch' + b + '.npy' in f:\n",
    "                seq_files.append(f)\n",
    "            elif 'sky' in f and 'batch' + b + '.npy' in f:\n",
    "                sky_files.append(f)\n",
    "                \n",
    "    positions = np.load(os.path.join(path, 'positions.npy'))\n",
    "    bb_pos = np.load(os.path.join(path, 'bb_pos.npy'))\n",
    "    \n",
    "    n = 0 # use as reference for array dimensions\n",
    "    fs = np.load(os.path.join(path, phot_files[n])) # use for shape info\n",
    "    ss = np.load(os.path.join(path, sky_files[n]))\n",
    "    data = np.zeros((len(phot_files), fs.shape[0], fs.shape[1])) # data matrix\n",
    "    t = np.zeros((len(seq_files), fs.shape[0])) # observation sequence numbers (i.e. time)\n",
    "    bkgs = np.zeros((len(sky_files), ss.shape[0], ss.shape[1]))\n",
    "\n",
    "    # staple together the data in files\n",
    "    def batch_files(files, arr):\n",
    "        for i,file in enumerate(files):\n",
    "            arr[i] = np.load(os.path.join(path, file))\n",
    "        return arr\n",
    "\n",
    "    data = batch_files(phot_files, data)\n",
    "    t = batch_files(seq_files, t)\n",
    "    bkgs = batch_files(sky_files, bkgs)\n",
    "    \n",
    "    # reshape and change dtype\n",
    "    data = data.reshape(data.shape[0] * data.shape[1], data.shape[2]).astype(np.float32)\n",
    "    bkgs = bkgs.reshape(bkgs.shape[0] * bkgs.shape[1], bkgs.shape[2]).astype(np.float32)\n",
    "    t = t.flatten().astype(np.float32)\n",
    "    \n",
    "\n",
    "    # generate observatons matrix (n_samples x n_features)\n",
    "    X = np.copy(data)\n",
    "    \n",
    "    print(X[:,0])\n",
    "    \n",
    "    print((ap_diam**2) * np.median(bkgs, axis=1))\n",
    "    \n",
    "    # subtract background estimate from the observations\n",
    "    X -= (ap_diam**2) * np.median(bkgs, axis=1)[:, None]\n",
    "    \n",
    "    print(X[:,0])\n",
    "    \n",
    "    b_adu = np.median(bkgs)\n",
    "    print('b_adu [ADU / pix / s]:', b_adu)\n",
    "    \n",
    "    # normalise the flux measurements\n",
    "    X_norm = X / np.median(X, axis=0)\n",
    "    \n",
    "    ###################### fit WPCA model #########################\n",
    "    X_norm = X_norm.T  # reshape to data matrix is n_samples x n_features\n",
    "    print('Data matrix shape:', X_norm.shape)\n",
    "    X_norm -= np.median(X_norm, axis=1)[:, None] # centre rows\n",
    "    \n",
    "    #X_norm = X_norm[[0, 10, 50, 100, 150, 200], :]\n",
    "\n",
    "    # split time series into manageable chunks\n",
    "    T = X_norm.shape[1]\n",
    "    chunks = np.concatenate((np.arange(0, T, CHUNK_SIZE), np.array([T])))\n",
    "    residuals = np.ones(X_norm.shape) # destination array for the residuals\n",
    "\n",
    "    print('Fitting PCA model...')\n",
    "    for source in range(0,len(X_norm)):\n",
    "        print('Source %d / %d' % (source + 1, len(X_norm)))\n",
    "        for i in tqdm(range(len(chunks)-1)):\n",
    "\n",
    "            # slice out data chunk\n",
    "            X_norm_ = X_norm[:,chunks[i]:chunks[i+1]]\n",
    "\n",
    "            # define weights as the inverse of the (normalised) time series variance\n",
    "            weights = 1/np.var(X_norm_, axis=1)\n",
    "            weights = weights[:,None] * np.ones(X_norm_.shape)\n",
    "            weights[source] = 1e-6 * np.ones(weights[source].shape) # weight out the target star (using 0s result in Singular matrix error)\n",
    "            pca = WPCA(n_components=N_COMPONENTS).fit(X_norm_, weights=weights) # fit pca model\n",
    "            Y = pca.fit_reconstruct(X_norm_, weights=weights) # make predictions\n",
    "\n",
    "            # compute residuals (i.e. \"detrended\" time series)\n",
    "            residuals_ = X_norm_[source] - Y[source]\n",
    "            residuals_ += 1 # shift time series such that median I(t) is 1\n",
    "\n",
    "            # slice reiduals into the destination array\n",
    "            residuals[source,chunks[i]:chunks[i+1]] = residuals_\n",
    "    \n",
    "    snrs = []\n",
    "    for lc in tqdm(residuals):\n",
    "        # skip lc if noise exceeds some threshold\n",
    "        mstd = mad_std(lc) # light curve median absolute deviation\n",
    "        snrs.append(1. / mstd)\n",
    "\n",
    "    '''\n",
    "    comparison_stars = np.where(np.std(X_norm[:, :], axis=0) < 0.1)[0]\n",
    "    print(\"Number of comparison stars:\", len(comparison_stars))\n",
    "    #wav = np.average(X_norm[:, comparison_stars],\n",
    "    #                 #weights=np.sqrt(np.median(X[:, comparison_stars], axis=0)), axis=1)\n",
    "    #                 weights=np.std(X_norm[:, comparison_stars], axis=0), axis=1)\n",
    "    \n",
    "    snrs = []\n",
    "    for i in range(X_norm.shape[1]):\n",
    "        if i in output[:,0]:\n",
    "            comp_stars = [c for c in comparison_stars if c != i]\n",
    "            wav = np.average(X_norm[:, comp_stars],\n",
    "                     #weights=np.std(X_norm[:, comp_stars], axis=0), axis=1)\n",
    "                     weights=1/np.var(X_norm[:, comp_stars], axis=0), axis=1)\n",
    "            lc_corr = X_norm[:, i] / wav\n",
    "            snrs.append(1 / mad_std(lc_corr))\n",
    "    '''\n",
    "    \n",
    "        \n",
    "    return snrs, b_adu"
   ]
  },
  {
   "cell_type": "code",
   "execution_count": 36,
   "metadata": {},
   "outputs": [
    {
     "name": "stdout",
     "output_type": "stream",
     "text": [
      "[536277.   519328.53 527083.4  ... 448553.9  452614.28 459838.4 ]\n",
      "[441.03705 538.60425 501.76727 ... 205.9504  384.54666 210.96523]\n",
      "[535835.94 518789.94 526581.6  ... 448347.97 452229.75 459627.44]\n",
      "b_adu [ADU / pix / s]: 0.11218467\n",
      "Data matrix shape: (282, 290000)\n",
      "Fitting PCA model...\n",
      "Source 1 / 282\n"
     ]
    },
    {
     "name": "stderr",
     "output_type": "stream",
     "text": [
      "100%|████████████████████████████████████████████████████████████████████████████████| 116/116 [01:39<00:00,  1.17it/s]\n"
     ]
    },
    {
     "name": "stdout",
     "output_type": "stream",
     "text": [
      "Source 2 / 282\n"
     ]
    },
    {
     "name": "stderr",
     "output_type": "stream",
     "text": [
      "100%|████████████████████████████████████████████████████████████████████████████████| 116/116 [01:37<00:00,  1.19it/s]\n"
     ]
    },
    {
     "name": "stdout",
     "output_type": "stream",
     "text": [
      "Source 3 / 282\n"
     ]
    },
    {
     "name": "stderr",
     "output_type": "stream",
     "text": [
      "100%|████████████████████████████████████████████████████████████████████████████████| 116/116 [01:37<00:00,  1.19it/s]\n"
     ]
    },
    {
     "name": "stdout",
     "output_type": "stream",
     "text": [
      "Source 4 / 282\n"
     ]
    },
    {
     "name": "stderr",
     "output_type": "stream",
     "text": [
      "100%|████████████████████████████████████████████████████████████████████████████████| 116/116 [01:36<00:00,  1.20it/s]\n"
     ]
    },
    {
     "name": "stdout",
     "output_type": "stream",
     "text": [
      "Source 5 / 282\n"
     ]
    },
    {
     "name": "stderr",
     "output_type": "stream",
     "text": [
      "100%|████████████████████████████████████████████████████████████████████████████████| 116/116 [01:38<00:00,  1.18it/s]\n"
     ]
    },
    {
     "name": "stdout",
     "output_type": "stream",
     "text": [
      "Source 6 / 282\n"
     ]
    },
    {
     "name": "stderr",
     "output_type": "stream",
     "text": [
      "100%|████████████████████████████████████████████████████████████████████████████████| 116/116 [01:37<00:00,  1.19it/s]\n"
     ]
    },
    {
     "name": "stdout",
     "output_type": "stream",
     "text": [
      "Source 7 / 282\n"
     ]
    },
    {
     "name": "stderr",
     "output_type": "stream",
     "text": [
      "100%|████████████████████████████████████████████████████████████████████████████████| 116/116 [01:38<00:00,  1.18it/s]\n"
     ]
    },
    {
     "name": "stdout",
     "output_type": "stream",
     "text": [
      "Source 8 / 282\n"
     ]
    },
    {
     "name": "stderr",
     "output_type": "stream",
     "text": [
      "100%|████████████████████████████████████████████████████████████████████████████████| 116/116 [01:37<00:00,  1.19it/s]\n"
     ]
    },
    {
     "name": "stdout",
     "output_type": "stream",
     "text": [
      "Source 9 / 282\n"
     ]
    },
    {
     "name": "stderr",
     "output_type": "stream",
     "text": [
      "100%|████████████████████████████████████████████████████████████████████████████████| 116/116 [01:38<00:00,  1.18it/s]\n"
     ]
    },
    {
     "name": "stdout",
     "output_type": "stream",
     "text": [
      "Source 10 / 282\n"
     ]
    },
    {
     "name": "stderr",
     "output_type": "stream",
     "text": [
      "100%|████████████████████████████████████████████████████████████████████████████████| 116/116 [01:37<00:00,  1.18it/s]\n"
     ]
    },
    {
     "name": "stdout",
     "output_type": "stream",
     "text": [
      "Source 11 / 282\n"
     ]
    },
    {
     "name": "stderr",
     "output_type": "stream",
     "text": [
      "100%|████████████████████████████████████████████████████████████████████████████████| 116/116 [01:38<00:00,  1.18it/s]\n"
     ]
    },
    {
     "name": "stdout",
     "output_type": "stream",
     "text": [
      "Source 12 / 282\n"
     ]
    },
    {
     "name": "stderr",
     "output_type": "stream",
     "text": [
      "100%|████████████████████████████████████████████████████████████████████████████████| 116/116 [01:38<00:00,  1.18it/s]\n"
     ]
    },
    {
     "name": "stdout",
     "output_type": "stream",
     "text": [
      "Source 13 / 282\n"
     ]
    },
    {
     "name": "stderr",
     "output_type": "stream",
     "text": [
      "100%|████████████████████████████████████████████████████████████████████████████████| 116/116 [01:37<00:00,  1.19it/s]\n"
     ]
    },
    {
     "name": "stdout",
     "output_type": "stream",
     "text": [
      "Source 14 / 282\n"
     ]
    },
    {
     "name": "stderr",
     "output_type": "stream",
     "text": [
      "100%|████████████████████████████████████████████████████████████████████████████████| 116/116 [01:37<00:00,  1.19it/s]\n"
     ]
    },
    {
     "name": "stdout",
     "output_type": "stream",
     "text": [
      "Source 15 / 282\n"
     ]
    },
    {
     "name": "stderr",
     "output_type": "stream",
     "text": [
      "100%|████████████████████████████████████████████████████████████████████████████████| 116/116 [01:37<00:00,  1.19it/s]\n"
     ]
    },
    {
     "name": "stdout",
     "output_type": "stream",
     "text": [
      "Source 16 / 282\n"
     ]
    },
    {
     "name": "stderr",
     "output_type": "stream",
     "text": [
      "100%|████████████████████████████████████████████████████████████████████████████████| 116/116 [01:38<00:00,  1.18it/s]\n"
     ]
    },
    {
     "name": "stdout",
     "output_type": "stream",
     "text": [
      "Source 17 / 282\n"
     ]
    },
    {
     "name": "stderr",
     "output_type": "stream",
     "text": [
      "100%|████████████████████████████████████████████████████████████████████████████████| 116/116 [01:36<00:00,  1.20it/s]\n"
     ]
    },
    {
     "name": "stdout",
     "output_type": "stream",
     "text": [
      "Source 18 / 282\n"
     ]
    },
    {
     "name": "stderr",
     "output_type": "stream",
     "text": [
      "100%|████████████████████████████████████████████████████████████████████████████████| 116/116 [01:37<00:00,  1.19it/s]\n"
     ]
    },
    {
     "name": "stdout",
     "output_type": "stream",
     "text": [
      "Source 19 / 282\n"
     ]
    },
    {
     "name": "stderr",
     "output_type": "stream",
     "text": [
      "100%|████████████████████████████████████████████████████████████████████████████████| 116/116 [01:38<00:00,  1.17it/s]\n"
     ]
    },
    {
     "name": "stdout",
     "output_type": "stream",
     "text": [
      "Source 20 / 282\n"
     ]
    },
    {
     "name": "stderr",
     "output_type": "stream",
     "text": [
      "100%|████████████████████████████████████████████████████████████████████████████████| 116/116 [01:37<00:00,  1.19it/s]\n"
     ]
    },
    {
     "name": "stdout",
     "output_type": "stream",
     "text": [
      "Source 21 / 282\n"
     ]
    },
    {
     "name": "stderr",
     "output_type": "stream",
     "text": [
      "100%|████████████████████████████████████████████████████████████████████████████████| 116/116 [01:36<00:00,  1.20it/s]\n"
     ]
    },
    {
     "name": "stdout",
     "output_type": "stream",
     "text": [
      "Source 22 / 282\n"
     ]
    },
    {
     "name": "stderr",
     "output_type": "stream",
     "text": [
      "100%|████████████████████████████████████████████████████████████████████████████████| 116/116 [01:39<00:00,  1.17it/s]\n"
     ]
    },
    {
     "name": "stdout",
     "output_type": "stream",
     "text": [
      "Source 23 / 282\n"
     ]
    },
    {
     "name": "stderr",
     "output_type": "stream",
     "text": [
      "100%|████████████████████████████████████████████████████████████████████████████████| 116/116 [01:36<00:00,  1.20it/s]\n"
     ]
    },
    {
     "name": "stdout",
     "output_type": "stream",
     "text": [
      "Source 24 / 282\n"
     ]
    },
    {
     "name": "stderr",
     "output_type": "stream",
     "text": [
      "100%|████████████████████████████████████████████████████████████████████████████████| 116/116 [01:37<00:00,  1.19it/s]\n"
     ]
    },
    {
     "name": "stdout",
     "output_type": "stream",
     "text": [
      "Source 25 / 282\n"
     ]
    },
    {
     "name": "stderr",
     "output_type": "stream",
     "text": [
      "100%|████████████████████████████████████████████████████████████████████████████████| 116/116 [01:37<00:00,  1.19it/s]\n"
     ]
    },
    {
     "name": "stdout",
     "output_type": "stream",
     "text": [
      "Source 26 / 282\n"
     ]
    },
    {
     "name": "stderr",
     "output_type": "stream",
     "text": [
      "100%|████████████████████████████████████████████████████████████████████████████████| 116/116 [01:37<00:00,  1.19it/s]\n"
     ]
    },
    {
     "name": "stdout",
     "output_type": "stream",
     "text": [
      "Source 27 / 282\n"
     ]
    },
    {
     "name": "stderr",
     "output_type": "stream",
     "text": [
      "100%|████████████████████████████████████████████████████████████████████████████████| 116/116 [01:37<00:00,  1.19it/s]\n"
     ]
    },
    {
     "name": "stdout",
     "output_type": "stream",
     "text": [
      "Source 28 / 282\n"
     ]
    },
    {
     "name": "stderr",
     "output_type": "stream",
     "text": [
      "100%|████████████████████████████████████████████████████████████████████████████████| 116/116 [01:37<00:00,  1.19it/s]\n"
     ]
    },
    {
     "name": "stdout",
     "output_type": "stream",
     "text": [
      "Source 29 / 282\n"
     ]
    },
    {
     "name": "stderr",
     "output_type": "stream",
     "text": [
      "100%|████████████████████████████████████████████████████████████████████████████████| 116/116 [01:38<00:00,  1.17it/s]\n"
     ]
    },
    {
     "name": "stdout",
     "output_type": "stream",
     "text": [
      "Source 30 / 282\n"
     ]
    },
    {
     "name": "stderr",
     "output_type": "stream",
     "text": [
      "100%|████████████████████████████████████████████████████████████████████████████████| 116/116 [01:37<00:00,  1.19it/s]\n"
     ]
    },
    {
     "name": "stdout",
     "output_type": "stream",
     "text": [
      "Source 31 / 282\n"
     ]
    },
    {
     "name": "stderr",
     "output_type": "stream",
     "text": [
      "100%|████████████████████████████████████████████████████████████████████████████████| 116/116 [01:37<00:00,  1.19it/s]\n"
     ]
    },
    {
     "name": "stdout",
     "output_type": "stream",
     "text": [
      "Source 32 / 282\n"
     ]
    },
    {
     "name": "stderr",
     "output_type": "stream",
     "text": [
      "100%|████████████████████████████████████████████████████████████████████████████████| 116/116 [01:37<00:00,  1.19it/s]\n"
     ]
    },
    {
     "name": "stdout",
     "output_type": "stream",
     "text": [
      "Source 33 / 282\n"
     ]
    },
    {
     "name": "stderr",
     "output_type": "stream",
     "text": [
      "100%|████████████████████████████████████████████████████████████████████████████████| 116/116 [01:38<00:00,  1.18it/s]\n"
     ]
    },
    {
     "name": "stdout",
     "output_type": "stream",
     "text": [
      "Source 34 / 282\n"
     ]
    },
    {
     "name": "stderr",
     "output_type": "stream",
     "text": [
      "100%|████████████████████████████████████████████████████████████████████████████████| 116/116 [01:36<00:00,  1.20it/s]\n"
     ]
    },
    {
     "name": "stdout",
     "output_type": "stream",
     "text": [
      "Source 35 / 282\n"
     ]
    },
    {
     "name": "stderr",
     "output_type": "stream",
     "text": [
      "100%|████████████████████████████████████████████████████████████████████████████████| 116/116 [01:36<00:00,  1.20it/s]\n"
     ]
    },
    {
     "name": "stdout",
     "output_type": "stream",
     "text": [
      "Source 36 / 282\n"
     ]
    },
    {
     "name": "stderr",
     "output_type": "stream",
     "text": [
      "100%|████████████████████████████████████████████████████████████████████████████████| 116/116 [01:36<00:00,  1.20it/s]\n"
     ]
    },
    {
     "name": "stdout",
     "output_type": "stream",
     "text": [
      "Source 37 / 282\n"
     ]
    },
    {
     "name": "stderr",
     "output_type": "stream",
     "text": [
      "100%|████████████████████████████████████████████████████████████████████████████████| 116/116 [01:36<00:00,  1.20it/s]\n"
     ]
    },
    {
     "name": "stdout",
     "output_type": "stream",
     "text": [
      "Source 38 / 282\n"
     ]
    },
    {
     "name": "stderr",
     "output_type": "stream",
     "text": [
      "100%|████████████████████████████████████████████████████████████████████████████████| 116/116 [01:37<00:00,  1.19it/s]\n"
     ]
    },
    {
     "name": "stdout",
     "output_type": "stream",
     "text": [
      "Source 39 / 282\n"
     ]
    },
    {
     "name": "stderr",
     "output_type": "stream",
     "text": [
      "100%|████████████████████████████████████████████████████████████████████████████████| 116/116 [01:37<00:00,  1.19it/s]\n"
     ]
    },
    {
     "name": "stdout",
     "output_type": "stream",
     "text": [
      "Source 40 / 282\n"
     ]
    },
    {
     "name": "stderr",
     "output_type": "stream",
     "text": [
      "100%|████████████████████████████████████████████████████████████████████████████████| 116/116 [01:37<00:00,  1.19it/s]\n"
     ]
    },
    {
     "name": "stdout",
     "output_type": "stream",
     "text": [
      "Source 41 / 282\n"
     ]
    },
    {
     "name": "stderr",
     "output_type": "stream",
     "text": [
      "100%|████████████████████████████████████████████████████████████████████████████████| 116/116 [01:37<00:00,  1.19it/s]\n"
     ]
    },
    {
     "name": "stdout",
     "output_type": "stream",
     "text": [
      "Source 42 / 282\n"
     ]
    },
    {
     "name": "stderr",
     "output_type": "stream",
     "text": [
      "100%|████████████████████████████████████████████████████████████████████████████████| 116/116 [01:36<00:00,  1.20it/s]\n"
     ]
    },
    {
     "name": "stdout",
     "output_type": "stream",
     "text": [
      "Source 43 / 282\n"
     ]
    },
    {
     "name": "stderr",
     "output_type": "stream",
     "text": [
      "100%|████████████████████████████████████████████████████████████████████████████████| 116/116 [01:37<00:00,  1.18it/s]\n"
     ]
    },
    {
     "name": "stdout",
     "output_type": "stream",
     "text": [
      "Source 44 / 282\n"
     ]
    },
    {
     "name": "stderr",
     "output_type": "stream",
     "text": [
      "100%|████████████████████████████████████████████████████████████████████████████████| 116/116 [01:37<00:00,  1.20it/s]\n"
     ]
    },
    {
     "name": "stdout",
     "output_type": "stream",
     "text": [
      "Source 45 / 282\n"
     ]
    },
    {
     "name": "stderr",
     "output_type": "stream",
     "text": [
      "100%|████████████████████████████████████████████████████████████████████████████████| 116/116 [01:37<00:00,  1.19it/s]\n"
     ]
    },
    {
     "name": "stdout",
     "output_type": "stream",
     "text": [
      "Source 46 / 282\n"
     ]
    },
    {
     "name": "stderr",
     "output_type": "stream",
     "text": [
      "100%|████████████████████████████████████████████████████████████████████████████████| 116/116 [01:38<00:00,  1.18it/s]\n"
     ]
    },
    {
     "name": "stdout",
     "output_type": "stream",
     "text": [
      "Source 47 / 282\n"
     ]
    },
    {
     "name": "stderr",
     "output_type": "stream",
     "text": [
      "100%|████████████████████████████████████████████████████████████████████████████████| 116/116 [01:37<00:00,  1.19it/s]\n"
     ]
    },
    {
     "name": "stdout",
     "output_type": "stream",
     "text": [
      "Source 48 / 282\n"
     ]
    },
    {
     "name": "stderr",
     "output_type": "stream",
     "text": [
      "100%|████████████████████████████████████████████████████████████████████████████████| 116/116 [01:37<00:00,  1.19it/s]\n"
     ]
    },
    {
     "name": "stdout",
     "output_type": "stream",
     "text": [
      "Source 49 / 282\n"
     ]
    },
    {
     "name": "stderr",
     "output_type": "stream",
     "text": [
      "100%|████████████████████████████████████████████████████████████████████████████████| 116/116 [01:37<00:00,  1.19it/s]\n"
     ]
    },
    {
     "name": "stdout",
     "output_type": "stream",
     "text": [
      "Source 50 / 282\n"
     ]
    },
    {
     "name": "stderr",
     "output_type": "stream",
     "text": [
      "100%|████████████████████████████████████████████████████████████████████████████████| 116/116 [01:37<00:00,  1.19it/s]\n"
     ]
    },
    {
     "name": "stdout",
     "output_type": "stream",
     "text": [
      "Source 51 / 282\n"
     ]
    },
    {
     "name": "stderr",
     "output_type": "stream",
     "text": [
      "100%|████████████████████████████████████████████████████████████████████████████████| 116/116 [01:36<00:00,  1.20it/s]\n"
     ]
    },
    {
     "name": "stdout",
     "output_type": "stream",
     "text": [
      "Source 52 / 282\n"
     ]
    },
    {
     "name": "stderr",
     "output_type": "stream",
     "text": [
      "100%|████████████████████████████████████████████████████████████████████████████████| 116/116 [01:38<00:00,  1.18it/s]\n"
     ]
    },
    {
     "name": "stdout",
     "output_type": "stream",
     "text": [
      "Source 53 / 282\n"
     ]
    },
    {
     "name": "stderr",
     "output_type": "stream",
     "text": [
      "100%|████████████████████████████████████████████████████████████████████████████████| 116/116 [01:38<00:00,  1.18it/s]\n"
     ]
    },
    {
     "name": "stdout",
     "output_type": "stream",
     "text": [
      "Source 54 / 282\n"
     ]
    },
    {
     "name": "stderr",
     "output_type": "stream",
     "text": [
      "100%|████████████████████████████████████████████████████████████████████████████████| 116/116 [01:37<00:00,  1.19it/s]\n"
     ]
    },
    {
     "name": "stdout",
     "output_type": "stream",
     "text": [
      "Source 55 / 282\n"
     ]
    },
    {
     "name": "stderr",
     "output_type": "stream",
     "text": [
      "100%|████████████████████████████████████████████████████████████████████████████████| 116/116 [01:38<00:00,  1.17it/s]\n"
     ]
    },
    {
     "name": "stdout",
     "output_type": "stream",
     "text": [
      "Source 56 / 282\n"
     ]
    },
    {
     "name": "stderr",
     "output_type": "stream",
     "text": [
      "100%|████████████████████████████████████████████████████████████████████████████████| 116/116 [01:37<00:00,  1.19it/s]\n"
     ]
    },
    {
     "name": "stdout",
     "output_type": "stream",
     "text": [
      "Source 57 / 282\n"
     ]
    },
    {
     "name": "stderr",
     "output_type": "stream",
     "text": [
      "100%|████████████████████████████████████████████████████████████████████████████████| 116/116 [01:37<00:00,  1.18it/s]\n"
     ]
    },
    {
     "name": "stdout",
     "output_type": "stream",
     "text": [
      "Source 58 / 282\n"
     ]
    },
    {
     "name": "stderr",
     "output_type": "stream",
     "text": [
      "100%|████████████████████████████████████████████████████████████████████████████████| 116/116 [01:37<00:00,  1.19it/s]\n"
     ]
    },
    {
     "name": "stdout",
     "output_type": "stream",
     "text": [
      "Source 59 / 282\n"
     ]
    },
    {
     "name": "stderr",
     "output_type": "stream",
     "text": [
      "100%|████████████████████████████████████████████████████████████████████████████████| 116/116 [01:36<00:00,  1.21it/s]\n"
     ]
    },
    {
     "name": "stdout",
     "output_type": "stream",
     "text": [
      "Source 60 / 282\n"
     ]
    },
    {
     "name": "stderr",
     "output_type": "stream",
     "text": [
      "100%|████████████████████████████████████████████████████████████████████████████████| 116/116 [01:38<00:00,  1.18it/s]\n"
     ]
    },
    {
     "name": "stdout",
     "output_type": "stream",
     "text": [
      "Source 61 / 282\n"
     ]
    },
    {
     "name": "stderr",
     "output_type": "stream",
     "text": [
      "100%|████████████████████████████████████████████████████████████████████████████████| 116/116 [01:38<00:00,  1.18it/s]\n"
     ]
    },
    {
     "name": "stdout",
     "output_type": "stream",
     "text": [
      "Source 62 / 282\n"
     ]
    },
    {
     "name": "stderr",
     "output_type": "stream",
     "text": [
      "100%|████████████████████████████████████████████████████████████████████████████████| 116/116 [01:38<00:00,  1.18it/s]\n"
     ]
    },
    {
     "name": "stdout",
     "output_type": "stream",
     "text": [
      "Source 63 / 282\n"
     ]
    },
    {
     "name": "stderr",
     "output_type": "stream",
     "text": [
      "100%|████████████████████████████████████████████████████████████████████████████████| 116/116 [01:36<00:00,  1.21it/s]\n"
     ]
    },
    {
     "name": "stdout",
     "output_type": "stream",
     "text": [
      "Source 64 / 282\n"
     ]
    },
    {
     "name": "stderr",
     "output_type": "stream",
     "text": [
      "100%|████████████████████████████████████████████████████████████████████████████████| 116/116 [01:36<00:00,  1.20it/s]\n"
     ]
    },
    {
     "name": "stdout",
     "output_type": "stream",
     "text": [
      "Source 65 / 282\n"
     ]
    },
    {
     "name": "stderr",
     "output_type": "stream",
     "text": [
      "100%|████████████████████████████████████████████████████████████████████████████████| 116/116 [01:36<00:00,  1.20it/s]\n"
     ]
    },
    {
     "name": "stdout",
     "output_type": "stream",
     "text": [
      "Source 66 / 282\n"
     ]
    },
    {
     "name": "stderr",
     "output_type": "stream",
     "text": [
      "100%|████████████████████████████████████████████████████████████████████████████████| 116/116 [01:36<00:00,  1.20it/s]\n"
     ]
    },
    {
     "name": "stdout",
     "output_type": "stream",
     "text": [
      "Source 67 / 282\n"
     ]
    },
    {
     "name": "stderr",
     "output_type": "stream",
     "text": [
      "100%|████████████████████████████████████████████████████████████████████████████████| 116/116 [01:37<00:00,  1.19it/s]\n"
     ]
    },
    {
     "name": "stdout",
     "output_type": "stream",
     "text": [
      "Source 68 / 282\n"
     ]
    },
    {
     "name": "stderr",
     "output_type": "stream",
     "text": [
      "100%|████████████████████████████████████████████████████████████████████████████████| 116/116 [01:36<00:00,  1.20it/s]\n"
     ]
    },
    {
     "name": "stdout",
     "output_type": "stream",
     "text": [
      "Source 69 / 282\n"
     ]
    },
    {
     "name": "stderr",
     "output_type": "stream",
     "text": [
      "100%|████████████████████████████████████████████████████████████████████████████████| 116/116 [01:36<00:00,  1.20it/s]\n"
     ]
    },
    {
     "name": "stdout",
     "output_type": "stream",
     "text": [
      "Source 70 / 282\n"
     ]
    },
    {
     "name": "stderr",
     "output_type": "stream",
     "text": [
      "100%|████████████████████████████████████████████████████████████████████████████████| 116/116 [01:38<00:00,  1.18it/s]\n"
     ]
    },
    {
     "name": "stdout",
     "output_type": "stream",
     "text": [
      "Source 71 / 282\n"
     ]
    },
    {
     "name": "stderr",
     "output_type": "stream",
     "text": [
      "100%|████████████████████████████████████████████████████████████████████████████████| 116/116 [01:37<00:00,  1.19it/s]\n"
     ]
    },
    {
     "name": "stdout",
     "output_type": "stream",
     "text": [
      "Source 72 / 282\n"
     ]
    },
    {
     "name": "stderr",
     "output_type": "stream",
     "text": [
      "100%|████████████████████████████████████████████████████████████████████████████████| 116/116 [01:38<00:00,  1.18it/s]\n"
     ]
    },
    {
     "name": "stdout",
     "output_type": "stream",
     "text": [
      "Source 73 / 282\n"
     ]
    },
    {
     "name": "stderr",
     "output_type": "stream",
     "text": [
      "100%|████████████████████████████████████████████████████████████████████████████████| 116/116 [01:37<00:00,  1.19it/s]\n"
     ]
    },
    {
     "name": "stdout",
     "output_type": "stream",
     "text": [
      "Source 74 / 282\n"
     ]
    },
    {
     "name": "stderr",
     "output_type": "stream",
     "text": [
      "100%|████████████████████████████████████████████████████████████████████████████████| 116/116 [01:37<00:00,  1.18it/s]\n"
     ]
    },
    {
     "name": "stdout",
     "output_type": "stream",
     "text": [
      "Source 75 / 282\n"
     ]
    },
    {
     "name": "stderr",
     "output_type": "stream",
     "text": [
      "100%|████████████████████████████████████████████████████████████████████████████████| 116/116 [01:36<00:00,  1.20it/s]\n"
     ]
    },
    {
     "name": "stdout",
     "output_type": "stream",
     "text": [
      "Source 76 / 282\n"
     ]
    },
    {
     "name": "stderr",
     "output_type": "stream",
     "text": [
      "100%|████████████████████████████████████████████████████████████████████████████████| 116/116 [01:37<00:00,  1.19it/s]\n"
     ]
    },
    {
     "name": "stdout",
     "output_type": "stream",
     "text": [
      "Source 77 / 282\n"
     ]
    },
    {
     "name": "stderr",
     "output_type": "stream",
     "text": [
      "100%|████████████████████████████████████████████████████████████████████████████████| 116/116 [01:38<00:00,  1.18it/s]\n"
     ]
    },
    {
     "name": "stdout",
     "output_type": "stream",
     "text": [
      "Source 78 / 282\n"
     ]
    },
    {
     "name": "stderr",
     "output_type": "stream",
     "text": [
      "100%|████████████████████████████████████████████████████████████████████████████████| 116/116 [01:37<00:00,  1.19it/s]\n"
     ]
    },
    {
     "name": "stdout",
     "output_type": "stream",
     "text": [
      "Source 79 / 282\n"
     ]
    },
    {
     "name": "stderr",
     "output_type": "stream",
     "text": [
      "100%|████████████████████████████████████████████████████████████████████████████████| 116/116 [01:38<00:00,  1.18it/s]\n"
     ]
    },
    {
     "name": "stdout",
     "output_type": "stream",
     "text": [
      "Source 80 / 282\n"
     ]
    },
    {
     "name": "stderr",
     "output_type": "stream",
     "text": [
      "100%|████████████████████████████████████████████████████████████████████████████████| 116/116 [01:38<00:00,  1.18it/s]\n"
     ]
    },
    {
     "name": "stdout",
     "output_type": "stream",
     "text": [
      "Source 81 / 282\n"
     ]
    },
    {
     "name": "stderr",
     "output_type": "stream",
     "text": [
      "100%|████████████████████████████████████████████████████████████████████████████████| 116/116 [01:37<00:00,  1.19it/s]\n"
     ]
    },
    {
     "name": "stdout",
     "output_type": "stream",
     "text": [
      "Source 82 / 282\n"
     ]
    },
    {
     "name": "stderr",
     "output_type": "stream",
     "text": [
      "100%|████████████████████████████████████████████████████████████████████████████████| 116/116 [01:38<00:00,  1.18it/s]\n"
     ]
    },
    {
     "name": "stdout",
     "output_type": "stream",
     "text": [
      "Source 83 / 282\n"
     ]
    },
    {
     "name": "stderr",
     "output_type": "stream",
     "text": [
      "100%|████████████████████████████████████████████████████████████████████████████████| 116/116 [01:38<00:00,  1.18it/s]\n"
     ]
    },
    {
     "name": "stdout",
     "output_type": "stream",
     "text": [
      "Source 84 / 282\n"
     ]
    },
    {
     "name": "stderr",
     "output_type": "stream",
     "text": [
      "100%|████████████████████████████████████████████████████████████████████████████████| 116/116 [01:38<00:00,  1.18it/s]\n"
     ]
    },
    {
     "name": "stdout",
     "output_type": "stream",
     "text": [
      "Source 85 / 282\n"
     ]
    },
    {
     "name": "stderr",
     "output_type": "stream",
     "text": [
      "100%|████████████████████████████████████████████████████████████████████████████████| 116/116 [01:38<00:00,  1.18it/s]\n"
     ]
    },
    {
     "name": "stdout",
     "output_type": "stream",
     "text": [
      "Source 86 / 282\n"
     ]
    },
    {
     "name": "stderr",
     "output_type": "stream",
     "text": [
      "100%|████████████████████████████████████████████████████████████████████████████████| 116/116 [01:37<00:00,  1.18it/s]\n"
     ]
    },
    {
     "name": "stdout",
     "output_type": "stream",
     "text": [
      "Source 87 / 282\n"
     ]
    },
    {
     "name": "stderr",
     "output_type": "stream",
     "text": [
      "100%|████████████████████████████████████████████████████████████████████████████████| 116/116 [01:37<00:00,  1.18it/s]\n"
     ]
    },
    {
     "name": "stdout",
     "output_type": "stream",
     "text": [
      "Source 88 / 282\n"
     ]
    },
    {
     "name": "stderr",
     "output_type": "stream",
     "text": [
      "100%|████████████████████████████████████████████████████████████████████████████████| 116/116 [01:36<00:00,  1.20it/s]\n"
     ]
    },
    {
     "name": "stdout",
     "output_type": "stream",
     "text": [
      "Source 89 / 282\n"
     ]
    },
    {
     "name": "stderr",
     "output_type": "stream",
     "text": [
      "100%|████████████████████████████████████████████████████████████████████████████████| 116/116 [01:36<00:00,  1.20it/s]\n"
     ]
    },
    {
     "name": "stdout",
     "output_type": "stream",
     "text": [
      "Source 90 / 282\n"
     ]
    },
    {
     "name": "stderr",
     "output_type": "stream",
     "text": [
      "100%|████████████████████████████████████████████████████████████████████████████████| 116/116 [01:36<00:00,  1.20it/s]\n"
     ]
    },
    {
     "name": "stdout",
     "output_type": "stream",
     "text": [
      "Source 91 / 282\n"
     ]
    },
    {
     "name": "stderr",
     "output_type": "stream",
     "text": [
      "100%|████████████████████████████████████████████████████████████████████████████████| 116/116 [01:37<00:00,  1.19it/s]\n"
     ]
    },
    {
     "name": "stdout",
     "output_type": "stream",
     "text": [
      "Source 92 / 282\n"
     ]
    },
    {
     "name": "stderr",
     "output_type": "stream",
     "text": [
      "100%|████████████████████████████████████████████████████████████████████████████████| 116/116 [01:36<00:00,  1.20it/s]\n"
     ]
    },
    {
     "name": "stdout",
     "output_type": "stream",
     "text": [
      "Source 93 / 282\n"
     ]
    },
    {
     "name": "stderr",
     "output_type": "stream",
     "text": [
      "100%|████████████████████████████████████████████████████████████████████████████████| 116/116 [01:38<00:00,  1.18it/s]\n"
     ]
    },
    {
     "name": "stdout",
     "output_type": "stream",
     "text": [
      "Source 94 / 282\n"
     ]
    },
    {
     "name": "stderr",
     "output_type": "stream",
     "text": [
      "100%|████████████████████████████████████████████████████████████████████████████████| 116/116 [01:37<00:00,  1.18it/s]\n"
     ]
    },
    {
     "name": "stdout",
     "output_type": "stream",
     "text": [
      "Source 95 / 282\n"
     ]
    },
    {
     "name": "stderr",
     "output_type": "stream",
     "text": [
      "100%|████████████████████████████████████████████████████████████████████████████████| 116/116 [01:35<00:00,  1.21it/s]\n"
     ]
    },
    {
     "name": "stdout",
     "output_type": "stream",
     "text": [
      "Source 96 / 282\n"
     ]
    },
    {
     "name": "stderr",
     "output_type": "stream",
     "text": [
      "100%|████████████████████████████████████████████████████████████████████████████████| 116/116 [01:36<00:00,  1.21it/s]\n"
     ]
    },
    {
     "name": "stdout",
     "output_type": "stream",
     "text": [
      "Source 97 / 282\n"
     ]
    },
    {
     "name": "stderr",
     "output_type": "stream",
     "text": [
      "100%|████████████████████████████████████████████████████████████████████████████████| 116/116 [01:37<00:00,  1.19it/s]\n"
     ]
    },
    {
     "name": "stdout",
     "output_type": "stream",
     "text": [
      "Source 98 / 282\n"
     ]
    },
    {
     "name": "stderr",
     "output_type": "stream",
     "text": [
      "100%|████████████████████████████████████████████████████████████████████████████████| 116/116 [01:37<00:00,  1.18it/s]\n"
     ]
    },
    {
     "name": "stdout",
     "output_type": "stream",
     "text": [
      "Source 99 / 282\n"
     ]
    },
    {
     "name": "stderr",
     "output_type": "stream",
     "text": [
      "100%|████████████████████████████████████████████████████████████████████████████████| 116/116 [01:38<00:00,  1.18it/s]\n"
     ]
    },
    {
     "name": "stdout",
     "output_type": "stream",
     "text": [
      "Source 100 / 282\n"
     ]
    },
    {
     "name": "stderr",
     "output_type": "stream",
     "text": [
      "100%|████████████████████████████████████████████████████████████████████████████████| 116/116 [01:37<00:00,  1.19it/s]\n"
     ]
    },
    {
     "name": "stdout",
     "output_type": "stream",
     "text": [
      "Source 101 / 282\n"
     ]
    },
    {
     "name": "stderr",
     "output_type": "stream",
     "text": [
      "100%|████████████████████████████████████████████████████████████████████████████████| 116/116 [01:36<00:00,  1.20it/s]\n"
     ]
    },
    {
     "name": "stdout",
     "output_type": "stream",
     "text": [
      "Source 102 / 282\n"
     ]
    },
    {
     "name": "stderr",
     "output_type": "stream",
     "text": [
      "100%|████████████████████████████████████████████████████████████████████████████████| 116/116 [01:36<00:00,  1.20it/s]\n"
     ]
    },
    {
     "name": "stdout",
     "output_type": "stream",
     "text": [
      "Source 103 / 282\n"
     ]
    },
    {
     "name": "stderr",
     "output_type": "stream",
     "text": [
      "100%|████████████████████████████████████████████████████████████████████████████████| 116/116 [01:38<00:00,  1.18it/s]\n"
     ]
    },
    {
     "name": "stdout",
     "output_type": "stream",
     "text": [
      "Source 104 / 282\n"
     ]
    },
    {
     "name": "stderr",
     "output_type": "stream",
     "text": [
      "100%|████████████████████████████████████████████████████████████████████████████████| 116/116 [01:37<00:00,  1.19it/s]\n"
     ]
    },
    {
     "name": "stdout",
     "output_type": "stream",
     "text": [
      "Source 105 / 282\n"
     ]
    },
    {
     "name": "stderr",
     "output_type": "stream",
     "text": [
      "100%|████████████████████████████████████████████████████████████████████████████████| 116/116 [01:37<00:00,  1.19it/s]\n"
     ]
    },
    {
     "name": "stdout",
     "output_type": "stream",
     "text": [
      "Source 106 / 282\n"
     ]
    },
    {
     "name": "stderr",
     "output_type": "stream",
     "text": [
      "100%|████████████████████████████████████████████████████████████████████████████████| 116/116 [01:37<00:00,  1.19it/s]\n"
     ]
    },
    {
     "name": "stdout",
     "output_type": "stream",
     "text": [
      "Source 107 / 282\n"
     ]
    },
    {
     "name": "stderr",
     "output_type": "stream",
     "text": [
      "100%|████████████████████████████████████████████████████████████████████████████████| 116/116 [01:36<00:00,  1.20it/s]\n"
     ]
    },
    {
     "name": "stdout",
     "output_type": "stream",
     "text": [
      "Source 108 / 282\n"
     ]
    },
    {
     "name": "stderr",
     "output_type": "stream",
     "text": [
      "100%|████████████████████████████████████████████████████████████████████████████████| 116/116 [01:38<00:00,  1.18it/s]\n"
     ]
    },
    {
     "name": "stdout",
     "output_type": "stream",
     "text": [
      "Source 109 / 282\n"
     ]
    },
    {
     "name": "stderr",
     "output_type": "stream",
     "text": [
      "100%|████████████████████████████████████████████████████████████████████████████████| 116/116 [01:36<00:00,  1.20it/s]\n"
     ]
    },
    {
     "name": "stdout",
     "output_type": "stream",
     "text": [
      "Source 110 / 282\n"
     ]
    },
    {
     "name": "stderr",
     "output_type": "stream",
     "text": [
      "100%|████████████████████████████████████████████████████████████████████████████████| 116/116 [01:36<00:00,  1.21it/s]\n"
     ]
    },
    {
     "name": "stdout",
     "output_type": "stream",
     "text": [
      "Source 111 / 282\n"
     ]
    },
    {
     "name": "stderr",
     "output_type": "stream",
     "text": [
      "100%|████████████████████████████████████████████████████████████████████████████████| 116/116 [01:36<00:00,  1.20it/s]\n"
     ]
    },
    {
     "name": "stdout",
     "output_type": "stream",
     "text": [
      "Source 112 / 282\n"
     ]
    },
    {
     "name": "stderr",
     "output_type": "stream",
     "text": [
      "100%|████████████████████████████████████████████████████████████████████████████████| 116/116 [01:38<00:00,  1.18it/s]\n"
     ]
    },
    {
     "name": "stdout",
     "output_type": "stream",
     "text": [
      "Source 113 / 282\n"
     ]
    },
    {
     "name": "stderr",
     "output_type": "stream",
     "text": [
      "100%|████████████████████████████████████████████████████████████████████████████████| 116/116 [01:38<00:00,  1.18it/s]\n"
     ]
    },
    {
     "name": "stdout",
     "output_type": "stream",
     "text": [
      "Source 114 / 282\n"
     ]
    },
    {
     "name": "stderr",
     "output_type": "stream",
     "text": [
      "100%|████████████████████████████████████████████████████████████████████████████████| 116/116 [01:37<00:00,  1.19it/s]\n"
     ]
    },
    {
     "name": "stdout",
     "output_type": "stream",
     "text": [
      "Source 115 / 282\n"
     ]
    },
    {
     "name": "stderr",
     "output_type": "stream",
     "text": [
      "100%|████████████████████████████████████████████████████████████████████████████████| 116/116 [01:37<00:00,  1.19it/s]\n"
     ]
    },
    {
     "name": "stdout",
     "output_type": "stream",
     "text": [
      "Source 116 / 282\n"
     ]
    },
    {
     "name": "stderr",
     "output_type": "stream",
     "text": [
      "100%|████████████████████████████████████████████████████████████████████████████████| 116/116 [01:37<00:00,  1.19it/s]\n"
     ]
    },
    {
     "name": "stdout",
     "output_type": "stream",
     "text": [
      "Source 117 / 282\n"
     ]
    },
    {
     "name": "stderr",
     "output_type": "stream",
     "text": [
      "100%|████████████████████████████████████████████████████████████████████████████████| 116/116 [01:38<00:00,  1.18it/s]\n"
     ]
    },
    {
     "name": "stdout",
     "output_type": "stream",
     "text": [
      "Source 118 / 282\n"
     ]
    },
    {
     "name": "stderr",
     "output_type": "stream",
     "text": [
      "100%|████████████████████████████████████████████████████████████████████████████████| 116/116 [01:36<00:00,  1.20it/s]\n"
     ]
    },
    {
     "name": "stdout",
     "output_type": "stream",
     "text": [
      "Source 119 / 282\n"
     ]
    },
    {
     "name": "stderr",
     "output_type": "stream",
     "text": [
      "100%|████████████████████████████████████████████████████████████████████████████████| 116/116 [01:36<00:00,  1.20it/s]\n"
     ]
    },
    {
     "name": "stdout",
     "output_type": "stream",
     "text": [
      "Source 120 / 282\n"
     ]
    },
    {
     "name": "stderr",
     "output_type": "stream",
     "text": [
      "100%|████████████████████████████████████████████████████████████████████████████████| 116/116 [01:37<00:00,  1.18it/s]\n"
     ]
    },
    {
     "name": "stdout",
     "output_type": "stream",
     "text": [
      "Source 121 / 282\n"
     ]
    },
    {
     "name": "stderr",
     "output_type": "stream",
     "text": [
      "100%|████████████████████████████████████████████████████████████████████████████████| 116/116 [01:38<00:00,  1.18it/s]\n"
     ]
    },
    {
     "name": "stdout",
     "output_type": "stream",
     "text": [
      "Source 122 / 282\n"
     ]
    },
    {
     "name": "stderr",
     "output_type": "stream",
     "text": [
      "100%|████████████████████████████████████████████████████████████████████████████████| 116/116 [01:37<00:00,  1.18it/s]\n"
     ]
    },
    {
     "name": "stdout",
     "output_type": "stream",
     "text": [
      "Source 123 / 282\n"
     ]
    },
    {
     "name": "stderr",
     "output_type": "stream",
     "text": [
      "100%|████████████████████████████████████████████████████████████████████████████████| 116/116 [01:37<00:00,  1.18it/s]\n"
     ]
    },
    {
     "name": "stdout",
     "output_type": "stream",
     "text": [
      "Source 124 / 282\n"
     ]
    },
    {
     "name": "stderr",
     "output_type": "stream",
     "text": [
      "100%|████████████████████████████████████████████████████████████████████████████████| 116/116 [01:37<00:00,  1.19it/s]\n"
     ]
    },
    {
     "name": "stdout",
     "output_type": "stream",
     "text": [
      "Source 125 / 282\n"
     ]
    },
    {
     "name": "stderr",
     "output_type": "stream",
     "text": [
      "100%|████████████████████████████████████████████████████████████████████████████████| 116/116 [01:38<00:00,  1.18it/s]\n"
     ]
    },
    {
     "name": "stdout",
     "output_type": "stream",
     "text": [
      "Source 126 / 282\n"
     ]
    },
    {
     "name": "stderr",
     "output_type": "stream",
     "text": [
      "100%|████████████████████████████████████████████████████████████████████████████████| 116/116 [01:36<00:00,  1.20it/s]\n"
     ]
    },
    {
     "name": "stdout",
     "output_type": "stream",
     "text": [
      "Source 127 / 282\n"
     ]
    },
    {
     "name": "stderr",
     "output_type": "stream",
     "text": [
      "100%|████████████████████████████████████████████████████████████████████████████████| 116/116 [01:37<00:00,  1.19it/s]\n"
     ]
    },
    {
     "name": "stdout",
     "output_type": "stream",
     "text": [
      "Source 128 / 282\n"
     ]
    },
    {
     "name": "stderr",
     "output_type": "stream",
     "text": [
      "100%|████████████████████████████████████████████████████████████████████████████████| 116/116 [01:38<00:00,  1.17it/s]\n"
     ]
    },
    {
     "name": "stdout",
     "output_type": "stream",
     "text": [
      "Source 129 / 282\n"
     ]
    },
    {
     "name": "stderr",
     "output_type": "stream",
     "text": [
      "100%|████████████████████████████████████████████████████████████████████████████████| 116/116 [01:38<00:00,  1.18it/s]\n"
     ]
    },
    {
     "name": "stdout",
     "output_type": "stream",
     "text": [
      "Source 130 / 282\n"
     ]
    },
    {
     "name": "stderr",
     "output_type": "stream",
     "text": [
      "100%|████████████████████████████████████████████████████████████████████████████████| 116/116 [01:36<00:00,  1.20it/s]\n"
     ]
    },
    {
     "name": "stdout",
     "output_type": "stream",
     "text": [
      "Source 131 / 282\n"
     ]
    },
    {
     "name": "stderr",
     "output_type": "stream",
     "text": [
      "100%|████████████████████████████████████████████████████████████████████████████████| 116/116 [01:37<00:00,  1.19it/s]\n"
     ]
    },
    {
     "name": "stdout",
     "output_type": "stream",
     "text": [
      "Source 132 / 282\n"
     ]
    },
    {
     "name": "stderr",
     "output_type": "stream",
     "text": [
      "100%|████████████████████████████████████████████████████████████████████████████████| 116/116 [01:36<00:00,  1.20it/s]\n"
     ]
    },
    {
     "name": "stdout",
     "output_type": "stream",
     "text": [
      "Source 133 / 282\n"
     ]
    },
    {
     "name": "stderr",
     "output_type": "stream",
     "text": [
      "100%|████████████████████████████████████████████████████████████████████████████████| 116/116 [01:38<00:00,  1.18it/s]\n"
     ]
    },
    {
     "name": "stdout",
     "output_type": "stream",
     "text": [
      "Source 134 / 282\n"
     ]
    },
    {
     "name": "stderr",
     "output_type": "stream",
     "text": [
      "100%|████████████████████████████████████████████████████████████████████████████████| 116/116 [01:38<00:00,  1.18it/s]\n"
     ]
    },
    {
     "name": "stdout",
     "output_type": "stream",
     "text": [
      "Source 135 / 282\n"
     ]
    },
    {
     "name": "stderr",
     "output_type": "stream",
     "text": [
      "100%|████████████████████████████████████████████████████████████████████████████████| 116/116 [01:37<00:00,  1.19it/s]\n"
     ]
    },
    {
     "name": "stdout",
     "output_type": "stream",
     "text": [
      "Source 136 / 282\n"
     ]
    },
    {
     "name": "stderr",
     "output_type": "stream",
     "text": [
      "100%|████████████████████████████████████████████████████████████████████████████████| 116/116 [01:37<00:00,  1.18it/s]\n"
     ]
    },
    {
     "name": "stdout",
     "output_type": "stream",
     "text": [
      "Source 137 / 282\n"
     ]
    },
    {
     "name": "stderr",
     "output_type": "stream",
     "text": [
      "100%|████████████████████████████████████████████████████████████████████████████████| 116/116 [01:38<00:00,  1.18it/s]\n"
     ]
    },
    {
     "name": "stdout",
     "output_type": "stream",
     "text": [
      "Source 138 / 282\n"
     ]
    },
    {
     "name": "stderr",
     "output_type": "stream",
     "text": [
      "100%|████████████████████████████████████████████████████████████████████████████████| 116/116 [01:36<00:00,  1.20it/s]\n"
     ]
    },
    {
     "name": "stdout",
     "output_type": "stream",
     "text": [
      "Source 139 / 282\n"
     ]
    },
    {
     "name": "stderr",
     "output_type": "stream",
     "text": [
      "100%|████████████████████████████████████████████████████████████████████████████████| 116/116 [01:37<00:00,  1.19it/s]\n"
     ]
    },
    {
     "name": "stdout",
     "output_type": "stream",
     "text": [
      "Source 140 / 282\n"
     ]
    },
    {
     "name": "stderr",
     "output_type": "stream",
     "text": [
      "100%|████████████████████████████████████████████████████████████████████████████████| 116/116 [01:38<00:00,  1.18it/s]\n"
     ]
    },
    {
     "name": "stdout",
     "output_type": "stream",
     "text": [
      "Source 141 / 282\n"
     ]
    },
    {
     "name": "stderr",
     "output_type": "stream",
     "text": [
      "100%|████████████████████████████████████████████████████████████████████████████████| 116/116 [01:39<00:00,  1.17it/s]\n"
     ]
    },
    {
     "name": "stdout",
     "output_type": "stream",
     "text": [
      "Source 142 / 282\n"
     ]
    },
    {
     "name": "stderr",
     "output_type": "stream",
     "text": [
      "100%|████████████████████████████████████████████████████████████████████████████████| 116/116 [01:38<00:00,  1.18it/s]\n"
     ]
    },
    {
     "name": "stdout",
     "output_type": "stream",
     "text": [
      "Source 143 / 282\n"
     ]
    },
    {
     "name": "stderr",
     "output_type": "stream",
     "text": [
      "100%|████████████████████████████████████████████████████████████████████████████████| 116/116 [01:37<00:00,  1.19it/s]\n"
     ]
    },
    {
     "name": "stdout",
     "output_type": "stream",
     "text": [
      "Source 144 / 282\n"
     ]
    },
    {
     "name": "stderr",
     "output_type": "stream",
     "text": [
      "100%|████████████████████████████████████████████████████████████████████████████████| 116/116 [01:37<00:00,  1.19it/s]\n"
     ]
    },
    {
     "name": "stdout",
     "output_type": "stream",
     "text": [
      "Source 145 / 282\n"
     ]
    },
    {
     "name": "stderr",
     "output_type": "stream",
     "text": [
      "100%|████████████████████████████████████████████████████████████████████████████████| 116/116 [01:38<00:00,  1.18it/s]\n"
     ]
    },
    {
     "name": "stdout",
     "output_type": "stream",
     "text": [
      "Source 146 / 282\n"
     ]
    },
    {
     "name": "stderr",
     "output_type": "stream",
     "text": [
      "100%|████████████████████████████████████████████████████████████████████████████████| 116/116 [01:38<00:00,  1.18it/s]\n"
     ]
    },
    {
     "name": "stdout",
     "output_type": "stream",
     "text": [
      "Source 147 / 282\n"
     ]
    },
    {
     "name": "stderr",
     "output_type": "stream",
     "text": [
      "100%|████████████████████████████████████████████████████████████████████████████████| 116/116 [01:37<00:00,  1.19it/s]\n"
     ]
    },
    {
     "name": "stdout",
     "output_type": "stream",
     "text": [
      "Source 148 / 282\n"
     ]
    },
    {
     "name": "stderr",
     "output_type": "stream",
     "text": [
      "100%|████████████████████████████████████████████████████████████████████████████████| 116/116 [01:39<00:00,  1.16it/s]\n"
     ]
    },
    {
     "name": "stdout",
     "output_type": "stream",
     "text": [
      "Source 149 / 282\n"
     ]
    },
    {
     "name": "stderr",
     "output_type": "stream",
     "text": [
      "100%|████████████████████████████████████████████████████████████████████████████████| 116/116 [01:37<00:00,  1.19it/s]\n"
     ]
    },
    {
     "name": "stdout",
     "output_type": "stream",
     "text": [
      "Source 150 / 282\n"
     ]
    },
    {
     "name": "stderr",
     "output_type": "stream",
     "text": [
      "100%|████████████████████████████████████████████████████████████████████████████████| 116/116 [01:38<00:00,  1.18it/s]\n"
     ]
    },
    {
     "name": "stdout",
     "output_type": "stream",
     "text": [
      "Source 151 / 282\n"
     ]
    },
    {
     "name": "stderr",
     "output_type": "stream",
     "text": [
      "100%|████████████████████████████████████████████████████████████████████████████████| 116/116 [01:38<00:00,  1.18it/s]\n"
     ]
    },
    {
     "name": "stdout",
     "output_type": "stream",
     "text": [
      "Source 152 / 282\n"
     ]
    },
    {
     "name": "stderr",
     "output_type": "stream",
     "text": [
      "100%|████████████████████████████████████████████████████████████████████████████████| 116/116 [01:37<00:00,  1.18it/s]\n"
     ]
    },
    {
     "name": "stdout",
     "output_type": "stream",
     "text": [
      "Source 153 / 282\n"
     ]
    },
    {
     "name": "stderr",
     "output_type": "stream",
     "text": [
      "100%|████████████████████████████████████████████████████████████████████████████████| 116/116 [01:38<00:00,  1.18it/s]\n"
     ]
    },
    {
     "name": "stdout",
     "output_type": "stream",
     "text": [
      "Source 154 / 282\n"
     ]
    },
    {
     "name": "stderr",
     "output_type": "stream",
     "text": [
      "100%|████████████████████████████████████████████████████████████████████████████████| 116/116 [01:37<00:00,  1.19it/s]\n"
     ]
    },
    {
     "name": "stdout",
     "output_type": "stream",
     "text": [
      "Source 155 / 282\n"
     ]
    },
    {
     "name": "stderr",
     "output_type": "stream",
     "text": [
      "100%|████████████████████████████████████████████████████████████████████████████████| 116/116 [01:37<00:00,  1.19it/s]\n"
     ]
    },
    {
     "name": "stdout",
     "output_type": "stream",
     "text": [
      "Source 156 / 282\n"
     ]
    },
    {
     "name": "stderr",
     "output_type": "stream",
     "text": [
      "100%|████████████████████████████████████████████████████████████████████████████████| 116/116 [01:37<00:00,  1.18it/s]\n"
     ]
    },
    {
     "name": "stdout",
     "output_type": "stream",
     "text": [
      "Source 157 / 282\n"
     ]
    },
    {
     "name": "stderr",
     "output_type": "stream",
     "text": [
      "100%|████████████████████████████████████████████████████████████████████████████████| 116/116 [01:37<00:00,  1.19it/s]\n"
     ]
    },
    {
     "name": "stdout",
     "output_type": "stream",
     "text": [
      "Source 158 / 282\n"
     ]
    },
    {
     "name": "stderr",
     "output_type": "stream",
     "text": [
      "100%|████████████████████████████████████████████████████████████████████████████████| 116/116 [01:37<00:00,  1.19it/s]\n"
     ]
    },
    {
     "name": "stdout",
     "output_type": "stream",
     "text": [
      "Source 159 / 282\n"
     ]
    },
    {
     "name": "stderr",
     "output_type": "stream",
     "text": [
      "100%|████████████████████████████████████████████████████████████████████████████████| 116/116 [01:37<00:00,  1.19it/s]\n"
     ]
    },
    {
     "name": "stdout",
     "output_type": "stream",
     "text": [
      "Source 160 / 282\n"
     ]
    },
    {
     "name": "stderr",
     "output_type": "stream",
     "text": [
      "100%|████████████████████████████████████████████████████████████████████████████████| 116/116 [01:34<00:00,  1.22it/s]\n"
     ]
    },
    {
     "name": "stdout",
     "output_type": "stream",
     "text": [
      "Source 161 / 282\n"
     ]
    },
    {
     "name": "stderr",
     "output_type": "stream",
     "text": [
      "100%|████████████████████████████████████████████████████████████████████████████████| 116/116 [01:36<00:00,  1.20it/s]\n"
     ]
    },
    {
     "name": "stdout",
     "output_type": "stream",
     "text": [
      "Source 162 / 282\n"
     ]
    },
    {
     "name": "stderr",
     "output_type": "stream",
     "text": [
      "100%|████████████████████████████████████████████████████████████████████████████████| 116/116 [01:38<00:00,  1.18it/s]\n"
     ]
    },
    {
     "name": "stdout",
     "output_type": "stream",
     "text": [
      "Source 163 / 282\n"
     ]
    },
    {
     "name": "stderr",
     "output_type": "stream",
     "text": [
      "100%|████████████████████████████████████████████████████████████████████████████████| 116/116 [01:38<00:00,  1.18it/s]\n"
     ]
    },
    {
     "name": "stdout",
     "output_type": "stream",
     "text": [
      "Source 164 / 282\n"
     ]
    },
    {
     "name": "stderr",
     "output_type": "stream",
     "text": [
      "100%|████████████████████████████████████████████████████████████████████████████████| 116/116 [01:38<00:00,  1.18it/s]\n"
     ]
    },
    {
     "name": "stdout",
     "output_type": "stream",
     "text": [
      "Source 165 / 282\n"
     ]
    },
    {
     "name": "stderr",
     "output_type": "stream",
     "text": [
      "100%|████████████████████████████████████████████████████████████████████████████████| 116/116 [01:37<00:00,  1.19it/s]\n"
     ]
    },
    {
     "name": "stdout",
     "output_type": "stream",
     "text": [
      "Source 166 / 282\n"
     ]
    },
    {
     "name": "stderr",
     "output_type": "stream",
     "text": [
      "100%|████████████████████████████████████████████████████████████████████████████████| 116/116 [01:37<00:00,  1.19it/s]\n"
     ]
    },
    {
     "name": "stdout",
     "output_type": "stream",
     "text": [
      "Source 167 / 282\n"
     ]
    },
    {
     "name": "stderr",
     "output_type": "stream",
     "text": [
      "100%|████████████████████████████████████████████████████████████████████████████████| 116/116 [01:35<00:00,  1.22it/s]\n"
     ]
    },
    {
     "name": "stdout",
     "output_type": "stream",
     "text": [
      "Source 168 / 282\n"
     ]
    },
    {
     "name": "stderr",
     "output_type": "stream",
     "text": [
      "100%|████████████████████████████████████████████████████████████████████████████████| 116/116 [01:37<00:00,  1.19it/s]\n"
     ]
    },
    {
     "name": "stdout",
     "output_type": "stream",
     "text": [
      "Source 169 / 282\n"
     ]
    },
    {
     "name": "stderr",
     "output_type": "stream",
     "text": [
      "100%|████████████████████████████████████████████████████████████████████████████████| 116/116 [01:36<00:00,  1.20it/s]\n"
     ]
    },
    {
     "name": "stdout",
     "output_type": "stream",
     "text": [
      "Source 170 / 282\n"
     ]
    },
    {
     "name": "stderr",
     "output_type": "stream",
     "text": [
      "100%|████████████████████████████████████████████████████████████████████████████████| 116/116 [01:37<00:00,  1.18it/s]\n"
     ]
    },
    {
     "name": "stdout",
     "output_type": "stream",
     "text": [
      "Source 171 / 282\n"
     ]
    },
    {
     "name": "stderr",
     "output_type": "stream",
     "text": [
      "100%|████████████████████████████████████████████████████████████████████████████████| 116/116 [01:37<00:00,  1.19it/s]\n"
     ]
    },
    {
     "name": "stdout",
     "output_type": "stream",
     "text": [
      "Source 172 / 282\n"
     ]
    },
    {
     "name": "stderr",
     "output_type": "stream",
     "text": [
      "100%|████████████████████████████████████████████████████████████████████████████████| 116/116 [01:38<00:00,  1.18it/s]\n"
     ]
    },
    {
     "name": "stdout",
     "output_type": "stream",
     "text": [
      "Source 173 / 282\n"
     ]
    },
    {
     "name": "stderr",
     "output_type": "stream",
     "text": [
      "100%|████████████████████████████████████████████████████████████████████████████████| 116/116 [01:36<00:00,  1.20it/s]\n"
     ]
    },
    {
     "name": "stdout",
     "output_type": "stream",
     "text": [
      "Source 174 / 282\n"
     ]
    },
    {
     "name": "stderr",
     "output_type": "stream",
     "text": [
      "100%|████████████████████████████████████████████████████████████████████████████████| 116/116 [01:38<00:00,  1.18it/s]\n"
     ]
    },
    {
     "name": "stdout",
     "output_type": "stream",
     "text": [
      "Source 175 / 282\n"
     ]
    },
    {
     "name": "stderr",
     "output_type": "stream",
     "text": [
      "100%|████████████████████████████████████████████████████████████████████████████████| 116/116 [01:36<00:00,  1.20it/s]\n"
     ]
    },
    {
     "name": "stdout",
     "output_type": "stream",
     "text": [
      "Source 176 / 282\n"
     ]
    },
    {
     "name": "stderr",
     "output_type": "stream",
     "text": [
      "100%|████████████████████████████████████████████████████████████████████████████████| 116/116 [01:36<00:00,  1.21it/s]\n"
     ]
    },
    {
     "name": "stdout",
     "output_type": "stream",
     "text": [
      "Source 177 / 282\n"
     ]
    },
    {
     "name": "stderr",
     "output_type": "stream",
     "text": [
      "100%|████████████████████████████████████████████████████████████████████████████████| 116/116 [01:37<00:00,  1.19it/s]\n"
     ]
    },
    {
     "name": "stdout",
     "output_type": "stream",
     "text": [
      "Source 178 / 282\n"
     ]
    },
    {
     "name": "stderr",
     "output_type": "stream",
     "text": [
      "100%|████████████████████████████████████████████████████████████████████████████████| 116/116 [01:37<00:00,  1.18it/s]\n"
     ]
    },
    {
     "name": "stdout",
     "output_type": "stream",
     "text": [
      "Source 179 / 282\n"
     ]
    },
    {
     "name": "stderr",
     "output_type": "stream",
     "text": [
      "100%|████████████████████████████████████████████████████████████████████████████████| 116/116 [01:37<00:00,  1.18it/s]\n"
     ]
    },
    {
     "name": "stdout",
     "output_type": "stream",
     "text": [
      "Source 180 / 282\n"
     ]
    },
    {
     "name": "stderr",
     "output_type": "stream",
     "text": [
      "100%|████████████████████████████████████████████████████████████████████████████████| 116/116 [01:39<00:00,  1.16it/s]\n"
     ]
    },
    {
     "name": "stdout",
     "output_type": "stream",
     "text": [
      "Source 181 / 282\n"
     ]
    },
    {
     "name": "stderr",
     "output_type": "stream",
     "text": [
      "100%|████████████████████████████████████████████████████████████████████████████████| 116/116 [01:38<00:00,  1.18it/s]\n"
     ]
    },
    {
     "name": "stdout",
     "output_type": "stream",
     "text": [
      "Source 182 / 282\n"
     ]
    },
    {
     "name": "stderr",
     "output_type": "stream",
     "text": [
      "100%|████████████████████████████████████████████████████████████████████████████████| 116/116 [01:36<00:00,  1.20it/s]\n"
     ]
    },
    {
     "name": "stdout",
     "output_type": "stream",
     "text": [
      "Source 183 / 282\n"
     ]
    },
    {
     "name": "stderr",
     "output_type": "stream",
     "text": [
      "100%|████████████████████████████████████████████████████████████████████████████████| 116/116 [01:37<00:00,  1.18it/s]\n"
     ]
    },
    {
     "name": "stdout",
     "output_type": "stream",
     "text": [
      "Source 184 / 282\n"
     ]
    },
    {
     "name": "stderr",
     "output_type": "stream",
     "text": [
      "100%|████████████████████████████████████████████████████████████████████████████████| 116/116 [01:38<00:00,  1.18it/s]\n"
     ]
    },
    {
     "name": "stdout",
     "output_type": "stream",
     "text": [
      "Source 185 / 282\n"
     ]
    },
    {
     "name": "stderr",
     "output_type": "stream",
     "text": [
      "100%|████████████████████████████████████████████████████████████████████████████████| 116/116 [01:37<00:00,  1.19it/s]\n"
     ]
    },
    {
     "name": "stdout",
     "output_type": "stream",
     "text": [
      "Source 186 / 282\n"
     ]
    },
    {
     "name": "stderr",
     "output_type": "stream",
     "text": [
      "100%|████████████████████████████████████████████████████████████████████████████████| 116/116 [01:38<00:00,  1.18it/s]\n"
     ]
    },
    {
     "name": "stdout",
     "output_type": "stream",
     "text": [
      "Source 187 / 282\n"
     ]
    },
    {
     "name": "stderr",
     "output_type": "stream",
     "text": [
      "100%|████████████████████████████████████████████████████████████████████████████████| 116/116 [01:38<00:00,  1.18it/s]\n"
     ]
    },
    {
     "name": "stdout",
     "output_type": "stream",
     "text": [
      "Source 188 / 282\n"
     ]
    },
    {
     "name": "stderr",
     "output_type": "stream",
     "text": [
      "100%|████████████████████████████████████████████████████████████████████████████████| 116/116 [01:36<00:00,  1.20it/s]\n"
     ]
    },
    {
     "name": "stdout",
     "output_type": "stream",
     "text": [
      "Source 189 / 282\n"
     ]
    },
    {
     "name": "stderr",
     "output_type": "stream",
     "text": [
      "100%|████████████████████████████████████████████████████████████████████████████████| 116/116 [01:37<00:00,  1.19it/s]\n"
     ]
    },
    {
     "name": "stdout",
     "output_type": "stream",
     "text": [
      "Source 190 / 282\n"
     ]
    },
    {
     "name": "stderr",
     "output_type": "stream",
     "text": [
      "100%|████████████████████████████████████████████████████████████████████████████████| 116/116 [01:36<00:00,  1.20it/s]\n"
     ]
    },
    {
     "name": "stdout",
     "output_type": "stream",
     "text": [
      "Source 191 / 282\n"
     ]
    },
    {
     "name": "stderr",
     "output_type": "stream",
     "text": [
      "100%|████████████████████████████████████████████████████████████████████████████████| 116/116 [01:36<00:00,  1.20it/s]\n"
     ]
    },
    {
     "name": "stdout",
     "output_type": "stream",
     "text": [
      "Source 192 / 282\n"
     ]
    },
    {
     "name": "stderr",
     "output_type": "stream",
     "text": [
      "100%|████████████████████████████████████████████████████████████████████████████████| 116/116 [01:37<00:00,  1.19it/s]\n"
     ]
    },
    {
     "name": "stdout",
     "output_type": "stream",
     "text": [
      "Source 193 / 282\n"
     ]
    },
    {
     "name": "stderr",
     "output_type": "stream",
     "text": [
      "100%|████████████████████████████████████████████████████████████████████████████████| 116/116 [01:37<00:00,  1.19it/s]\n"
     ]
    },
    {
     "name": "stdout",
     "output_type": "stream",
     "text": [
      "Source 194 / 282\n"
     ]
    },
    {
     "name": "stderr",
     "output_type": "stream",
     "text": [
      "100%|████████████████████████████████████████████████████████████████████████████████| 116/116 [01:36<00:00,  1.20it/s]\n"
     ]
    },
    {
     "name": "stdout",
     "output_type": "stream",
     "text": [
      "Source 195 / 282\n"
     ]
    },
    {
     "name": "stderr",
     "output_type": "stream",
     "text": [
      "100%|████████████████████████████████████████████████████████████████████████████████| 116/116 [01:36<00:00,  1.20it/s]\n"
     ]
    },
    {
     "name": "stdout",
     "output_type": "stream",
     "text": [
      "Source 196 / 282\n"
     ]
    },
    {
     "name": "stderr",
     "output_type": "stream",
     "text": [
      "100%|████████████████████████████████████████████████████████████████████████████████| 116/116 [01:37<00:00,  1.19it/s]\n"
     ]
    },
    {
     "name": "stdout",
     "output_type": "stream",
     "text": [
      "Source 197 / 282\n"
     ]
    },
    {
     "name": "stderr",
     "output_type": "stream",
     "text": [
      "100%|████████████████████████████████████████████████████████████████████████████████| 116/116 [01:37<00:00,  1.19it/s]\n"
     ]
    },
    {
     "name": "stdout",
     "output_type": "stream",
     "text": [
      "Source 198 / 282\n"
     ]
    },
    {
     "name": "stderr",
     "output_type": "stream",
     "text": [
      "100%|████████████████████████████████████████████████████████████████████████████████| 116/116 [01:36<00:00,  1.20it/s]\n"
     ]
    },
    {
     "name": "stdout",
     "output_type": "stream",
     "text": [
      "Source 199 / 282\n"
     ]
    },
    {
     "name": "stderr",
     "output_type": "stream",
     "text": [
      "100%|████████████████████████████████████████████████████████████████████████████████| 116/116 [01:37<00:00,  1.19it/s]\n"
     ]
    },
    {
     "name": "stdout",
     "output_type": "stream",
     "text": [
      "Source 200 / 282\n"
     ]
    },
    {
     "name": "stderr",
     "output_type": "stream",
     "text": [
      "100%|████████████████████████████████████████████████████████████████████████████████| 116/116 [01:37<00:00,  1.19it/s]\n"
     ]
    },
    {
     "name": "stdout",
     "output_type": "stream",
     "text": [
      "Source 201 / 282\n"
     ]
    },
    {
     "name": "stderr",
     "output_type": "stream",
     "text": [
      "100%|████████████████████████████████████████████████████████████████████████████████| 116/116 [01:36<00:00,  1.20it/s]\n"
     ]
    },
    {
     "name": "stdout",
     "output_type": "stream",
     "text": [
      "Source 202 / 282\n"
     ]
    },
    {
     "name": "stderr",
     "output_type": "stream",
     "text": [
      "100%|████████████████████████████████████████████████████████████████████████████████| 116/116 [01:37<00:00,  1.19it/s]\n"
     ]
    },
    {
     "name": "stdout",
     "output_type": "stream",
     "text": [
      "Source 203 / 282\n"
     ]
    },
    {
     "name": "stderr",
     "output_type": "stream",
     "text": [
      "100%|████████████████████████████████████████████████████████████████████████████████| 116/116 [01:35<00:00,  1.22it/s]\n"
     ]
    },
    {
     "name": "stdout",
     "output_type": "stream",
     "text": [
      "Source 204 / 282\n"
     ]
    },
    {
     "name": "stderr",
     "output_type": "stream",
     "text": [
      "100%|████████████████████████████████████████████████████████████████████████████████| 116/116 [01:36<00:00,  1.20it/s]\n"
     ]
    },
    {
     "name": "stdout",
     "output_type": "stream",
     "text": [
      "Source 205 / 282\n"
     ]
    },
    {
     "name": "stderr",
     "output_type": "stream",
     "text": [
      "100%|████████████████████████████████████████████████████████████████████████████████| 116/116 [01:36<00:00,  1.20it/s]\n"
     ]
    },
    {
     "name": "stdout",
     "output_type": "stream",
     "text": [
      "Source 206 / 282\n"
     ]
    },
    {
     "name": "stderr",
     "output_type": "stream",
     "text": [
      "100%|████████████████████████████████████████████████████████████████████████████████| 116/116 [01:37<00:00,  1.20it/s]\n"
     ]
    },
    {
     "name": "stdout",
     "output_type": "stream",
     "text": [
      "Source 207 / 282\n"
     ]
    },
    {
     "name": "stderr",
     "output_type": "stream",
     "text": [
      "100%|████████████████████████████████████████████████████████████████████████████████| 116/116 [01:38<00:00,  1.18it/s]\n"
     ]
    },
    {
     "name": "stdout",
     "output_type": "stream",
     "text": [
      "Source 208 / 282\n"
     ]
    },
    {
     "name": "stderr",
     "output_type": "stream",
     "text": [
      "100%|████████████████████████████████████████████████████████████████████████████████| 116/116 [01:37<00:00,  1.19it/s]\n"
     ]
    },
    {
     "name": "stdout",
     "output_type": "stream",
     "text": [
      "Source 209 / 282\n"
     ]
    },
    {
     "name": "stderr",
     "output_type": "stream",
     "text": [
      "100%|████████████████████████████████████████████████████████████████████████████████| 116/116 [01:37<00:00,  1.20it/s]\n"
     ]
    },
    {
     "name": "stdout",
     "output_type": "stream",
     "text": [
      "Source 210 / 282\n"
     ]
    },
    {
     "name": "stderr",
     "output_type": "stream",
     "text": [
      "100%|████████████████████████████████████████████████████████████████████████████████| 116/116 [01:37<00:00,  1.19it/s]\n"
     ]
    },
    {
     "name": "stdout",
     "output_type": "stream",
     "text": [
      "Source 211 / 282\n"
     ]
    },
    {
     "name": "stderr",
     "output_type": "stream",
     "text": [
      "100%|████████████████████████████████████████████████████████████████████████████████| 116/116 [01:36<00:00,  1.20it/s]\n"
     ]
    },
    {
     "name": "stdout",
     "output_type": "stream",
     "text": [
      "Source 212 / 282\n"
     ]
    },
    {
     "name": "stderr",
     "output_type": "stream",
     "text": [
      "100%|████████████████████████████████████████████████████████████████████████████████| 116/116 [01:37<00:00,  1.19it/s]\n"
     ]
    },
    {
     "name": "stdout",
     "output_type": "stream",
     "text": [
      "Source 213 / 282\n"
     ]
    },
    {
     "name": "stderr",
     "output_type": "stream",
     "text": [
      "100%|████████████████████████████████████████████████████████████████████████████████| 116/116 [01:36<00:00,  1.20it/s]\n"
     ]
    },
    {
     "name": "stdout",
     "output_type": "stream",
     "text": [
      "Source 214 / 282\n"
     ]
    },
    {
     "name": "stderr",
     "output_type": "stream",
     "text": [
      "100%|████████████████████████████████████████████████████████████████████████████████| 116/116 [01:37<00:00,  1.19it/s]\n"
     ]
    },
    {
     "name": "stdout",
     "output_type": "stream",
     "text": [
      "Source 215 / 282\n"
     ]
    },
    {
     "name": "stderr",
     "output_type": "stream",
     "text": [
      "100%|████████████████████████████████████████████████████████████████████████████████| 116/116 [01:36<00:00,  1.21it/s]\n"
     ]
    },
    {
     "name": "stdout",
     "output_type": "stream",
     "text": [
      "Source 216 / 282\n"
     ]
    },
    {
     "name": "stderr",
     "output_type": "stream",
     "text": [
      "100%|████████████████████████████████████████████████████████████████████████████████| 116/116 [01:37<00:00,  1.19it/s]\n"
     ]
    },
    {
     "name": "stdout",
     "output_type": "stream",
     "text": [
      "Source 217 / 282\n"
     ]
    },
    {
     "name": "stderr",
     "output_type": "stream",
     "text": [
      "100%|████████████████████████████████████████████████████████████████████████████████| 116/116 [01:35<00:00,  1.21it/s]\n"
     ]
    },
    {
     "name": "stdout",
     "output_type": "stream",
     "text": [
      "Source 218 / 282\n"
     ]
    },
    {
     "name": "stderr",
     "output_type": "stream",
     "text": [
      "100%|████████████████████████████████████████████████████████████████████████████████| 116/116 [01:37<00:00,  1.19it/s]\n"
     ]
    },
    {
     "name": "stdout",
     "output_type": "stream",
     "text": [
      "Source 219 / 282\n"
     ]
    },
    {
     "name": "stderr",
     "output_type": "stream",
     "text": [
      "100%|████████████████████████████████████████████████████████████████████████████████| 116/116 [01:37<00:00,  1.19it/s]\n"
     ]
    },
    {
     "name": "stdout",
     "output_type": "stream",
     "text": [
      "Source 220 / 282\n"
     ]
    },
    {
     "name": "stderr",
     "output_type": "stream",
     "text": [
      "100%|████████████████████████████████████████████████████████████████████████████████| 116/116 [01:37<00:00,  1.19it/s]\n"
     ]
    },
    {
     "name": "stdout",
     "output_type": "stream",
     "text": [
      "Source 221 / 282\n"
     ]
    },
    {
     "name": "stderr",
     "output_type": "stream",
     "text": [
      "100%|████████████████████████████████████████████████████████████████████████████████| 116/116 [01:37<00:00,  1.19it/s]\n"
     ]
    },
    {
     "name": "stdout",
     "output_type": "stream",
     "text": [
      "Source 222 / 282\n"
     ]
    },
    {
     "name": "stderr",
     "output_type": "stream",
     "text": [
      "100%|████████████████████████████████████████████████████████████████████████████████| 116/116 [01:38<00:00,  1.18it/s]\n"
     ]
    },
    {
     "name": "stdout",
     "output_type": "stream",
     "text": [
      "Source 223 / 282\n"
     ]
    },
    {
     "name": "stderr",
     "output_type": "stream",
     "text": [
      "100%|████████████████████████████████████████████████████████████████████████████████| 116/116 [01:37<00:00,  1.19it/s]\n"
     ]
    },
    {
     "name": "stdout",
     "output_type": "stream",
     "text": [
      "Source 224 / 282\n"
     ]
    },
    {
     "name": "stderr",
     "output_type": "stream",
     "text": [
      "100%|████████████████████████████████████████████████████████████████████████████████| 116/116 [01:37<00:00,  1.18it/s]\n"
     ]
    },
    {
     "name": "stdout",
     "output_type": "stream",
     "text": [
      "Source 225 / 282\n"
     ]
    },
    {
     "name": "stderr",
     "output_type": "stream",
     "text": [
      "100%|████████████████████████████████████████████████████████████████████████████████| 116/116 [01:37<00:00,  1.19it/s]\n"
     ]
    },
    {
     "name": "stdout",
     "output_type": "stream",
     "text": [
      "Source 226 / 282\n"
     ]
    },
    {
     "name": "stderr",
     "output_type": "stream",
     "text": [
      "100%|████████████████████████████████████████████████████████████████████████████████| 116/116 [01:37<00:00,  1.19it/s]\n"
     ]
    },
    {
     "name": "stdout",
     "output_type": "stream",
     "text": [
      "Source 227 / 282\n"
     ]
    },
    {
     "name": "stderr",
     "output_type": "stream",
     "text": [
      "100%|████████████████████████████████████████████████████████████████████████████████| 116/116 [01:39<00:00,  1.17it/s]\n"
     ]
    },
    {
     "name": "stdout",
     "output_type": "stream",
     "text": [
      "Source 228 / 282\n"
     ]
    },
    {
     "name": "stderr",
     "output_type": "stream",
     "text": [
      "100%|████████████████████████████████████████████████████████████████████████████████| 116/116 [01:37<00:00,  1.19it/s]\n"
     ]
    },
    {
     "name": "stdout",
     "output_type": "stream",
     "text": [
      "Source 229 / 282\n"
     ]
    },
    {
     "name": "stderr",
     "output_type": "stream",
     "text": [
      "100%|████████████████████████████████████████████████████████████████████████████████| 116/116 [01:37<00:00,  1.19it/s]\n"
     ]
    },
    {
     "name": "stdout",
     "output_type": "stream",
     "text": [
      "Source 230 / 282\n"
     ]
    },
    {
     "name": "stderr",
     "output_type": "stream",
     "text": [
      "100%|████████████████████████████████████████████████████████████████████████████████| 116/116 [01:38<00:00,  1.18it/s]\n"
     ]
    },
    {
     "name": "stdout",
     "output_type": "stream",
     "text": [
      "Source 231 / 282\n"
     ]
    },
    {
     "name": "stderr",
     "output_type": "stream",
     "text": [
      "100%|████████████████████████████████████████████████████████████████████████████████| 116/116 [01:37<00:00,  1.19it/s]\n"
     ]
    },
    {
     "name": "stdout",
     "output_type": "stream",
     "text": [
      "Source 232 / 282\n"
     ]
    },
    {
     "name": "stderr",
     "output_type": "stream",
     "text": [
      "100%|████████████████████████████████████████████████████████████████████████████████| 116/116 [01:37<00:00,  1.18it/s]\n"
     ]
    },
    {
     "name": "stdout",
     "output_type": "stream",
     "text": [
      "Source 233 / 282\n"
     ]
    },
    {
     "name": "stderr",
     "output_type": "stream",
     "text": [
      "100%|████████████████████████████████████████████████████████████████████████████████| 116/116 [01:39<00:00,  1.16it/s]\n"
     ]
    },
    {
     "name": "stdout",
     "output_type": "stream",
     "text": [
      "Source 234 / 282\n"
     ]
    },
    {
     "name": "stderr",
     "output_type": "stream",
     "text": [
      "100%|████████████████████████████████████████████████████████████████████████████████| 116/116 [01:38<00:00,  1.18it/s]\n"
     ]
    },
    {
     "name": "stdout",
     "output_type": "stream",
     "text": [
      "Source 235 / 282\n"
     ]
    },
    {
     "name": "stderr",
     "output_type": "stream",
     "text": [
      "100%|████████████████████████████████████████████████████████████████████████████████| 116/116 [01:39<00:00,  1.17it/s]\n"
     ]
    },
    {
     "name": "stdout",
     "output_type": "stream",
     "text": [
      "Source 236 / 282\n"
     ]
    },
    {
     "name": "stderr",
     "output_type": "stream",
     "text": [
      "100%|████████████████████████████████████████████████████████████████████████████████| 116/116 [01:38<00:00,  1.18it/s]\n"
     ]
    },
    {
     "name": "stdout",
     "output_type": "stream",
     "text": [
      "Source 237 / 282\n"
     ]
    },
    {
     "name": "stderr",
     "output_type": "stream",
     "text": [
      "100%|████████████████████████████████████████████████████████████████████████████████| 116/116 [01:38<00:00,  1.18it/s]\n"
     ]
    },
    {
     "name": "stdout",
     "output_type": "stream",
     "text": [
      "Source 238 / 282\n"
     ]
    },
    {
     "name": "stderr",
     "output_type": "stream",
     "text": [
      "100%|████████████████████████████████████████████████████████████████████████████████| 116/116 [01:39<00:00,  1.16it/s]\n"
     ]
    },
    {
     "name": "stdout",
     "output_type": "stream",
     "text": [
      "Source 239 / 282\n"
     ]
    },
    {
     "name": "stderr",
     "output_type": "stream",
     "text": [
      "100%|████████████████████████████████████████████████████████████████████████████████| 116/116 [01:39<00:00,  1.16it/s]\n"
     ]
    },
    {
     "name": "stdout",
     "output_type": "stream",
     "text": [
      "Source 240 / 282\n"
     ]
    },
    {
     "name": "stderr",
     "output_type": "stream",
     "text": [
      "100%|████████████████████████████████████████████████████████████████████████████████| 116/116 [01:38<00:00,  1.18it/s]\n"
     ]
    },
    {
     "name": "stdout",
     "output_type": "stream",
     "text": [
      "Source 241 / 282\n"
     ]
    },
    {
     "name": "stderr",
     "output_type": "stream",
     "text": [
      "100%|████████████████████████████████████████████████████████████████████████████████| 116/116 [01:35<00:00,  1.22it/s]\n"
     ]
    },
    {
     "name": "stdout",
     "output_type": "stream",
     "text": [
      "Source 242 / 282\n"
     ]
    },
    {
     "name": "stderr",
     "output_type": "stream",
     "text": [
      "100%|████████████████████████████████████████████████████████████████████████████████| 116/116 [01:33<00:00,  1.24it/s]\n"
     ]
    },
    {
     "name": "stdout",
     "output_type": "stream",
     "text": [
      "Source 243 / 282\n"
     ]
    },
    {
     "name": "stderr",
     "output_type": "stream",
     "text": [
      "100%|████████████████████████████████████████████████████████████████████████████████| 116/116 [01:32<00:00,  1.25it/s]\n"
     ]
    },
    {
     "name": "stdout",
     "output_type": "stream",
     "text": [
      "Source 244 / 282\n"
     ]
    },
    {
     "name": "stderr",
     "output_type": "stream",
     "text": [
      "100%|████████████████████████████████████████████████████████████████████████████████| 116/116 [01:28<00:00,  1.31it/s]\n"
     ]
    },
    {
     "name": "stdout",
     "output_type": "stream",
     "text": [
      "Source 245 / 282\n"
     ]
    },
    {
     "name": "stderr",
     "output_type": "stream",
     "text": [
      "100%|████████████████████████████████████████████████████████████████████████████████| 116/116 [01:28<00:00,  1.31it/s]\n"
     ]
    },
    {
     "name": "stdout",
     "output_type": "stream",
     "text": [
      "Source 246 / 282\n"
     ]
    },
    {
     "name": "stderr",
     "output_type": "stream",
     "text": [
      "100%|████████████████████████████████████████████████████████████████████████████████| 116/116 [01:29<00:00,  1.30it/s]\n"
     ]
    },
    {
     "name": "stdout",
     "output_type": "stream",
     "text": [
      "Source 247 / 282\n"
     ]
    },
    {
     "name": "stderr",
     "output_type": "stream",
     "text": [
      "100%|████████████████████████████████████████████████████████████████████████████████| 116/116 [01:28<00:00,  1.31it/s]\n"
     ]
    },
    {
     "name": "stdout",
     "output_type": "stream",
     "text": [
      "Source 248 / 282\n"
     ]
    },
    {
     "name": "stderr",
     "output_type": "stream",
     "text": [
      "100%|████████████████████████████████████████████████████████████████████████████████| 116/116 [01:28<00:00,  1.30it/s]\n"
     ]
    },
    {
     "name": "stdout",
     "output_type": "stream",
     "text": [
      "Source 249 / 282\n"
     ]
    },
    {
     "name": "stderr",
     "output_type": "stream",
     "text": [
      "100%|████████████████████████████████████████████████████████████████████████████████| 116/116 [01:26<00:00,  1.34it/s]\n"
     ]
    },
    {
     "name": "stdout",
     "output_type": "stream",
     "text": [
      "Source 250 / 282\n"
     ]
    },
    {
     "name": "stderr",
     "output_type": "stream",
     "text": [
      "100%|████████████████████████████████████████████████████████████████████████████████| 116/116 [01:26<00:00,  1.33it/s]\n"
     ]
    },
    {
     "name": "stdout",
     "output_type": "stream",
     "text": [
      "Source 251 / 282\n"
     ]
    },
    {
     "name": "stderr",
     "output_type": "stream",
     "text": [
      "100%|████████████████████████████████████████████████████████████████████████████████| 116/116 [01:27<00:00,  1.32it/s]\n"
     ]
    },
    {
     "name": "stdout",
     "output_type": "stream",
     "text": [
      "Source 252 / 282\n"
     ]
    },
    {
     "name": "stderr",
     "output_type": "stream",
     "text": [
      "100%|████████████████████████████████████████████████████████████████████████████████| 116/116 [01:26<00:00,  1.34it/s]\n"
     ]
    },
    {
     "name": "stdout",
     "output_type": "stream",
     "text": [
      "Source 253 / 282\n"
     ]
    },
    {
     "name": "stderr",
     "output_type": "stream",
     "text": [
      "100%|████████████████████████████████████████████████████████████████████████████████| 116/116 [01:26<00:00,  1.33it/s]\n"
     ]
    },
    {
     "name": "stdout",
     "output_type": "stream",
     "text": [
      "Source 254 / 282\n"
     ]
    },
    {
     "name": "stderr",
     "output_type": "stream",
     "text": [
      "100%|████████████████████████████████████████████████████████████████████████████████| 116/116 [01:26<00:00,  1.34it/s]\n"
     ]
    },
    {
     "name": "stdout",
     "output_type": "stream",
     "text": [
      "Source 255 / 282\n"
     ]
    },
    {
     "name": "stderr",
     "output_type": "stream",
     "text": [
      "100%|████████████████████████████████████████████████████████████████████████████████| 116/116 [01:27<00:00,  1.33it/s]\n"
     ]
    },
    {
     "name": "stdout",
     "output_type": "stream",
     "text": [
      "Source 256 / 282\n"
     ]
    },
    {
     "name": "stderr",
     "output_type": "stream",
     "text": [
      "100%|████████████████████████████████████████████████████████████████████████████████| 116/116 [01:26<00:00,  1.34it/s]\n"
     ]
    },
    {
     "name": "stdout",
     "output_type": "stream",
     "text": [
      "Source 257 / 282\n"
     ]
    },
    {
     "name": "stderr",
     "output_type": "stream",
     "text": [
      "100%|████████████████████████████████████████████████████████████████████████████████| 116/116 [01:27<00:00,  1.32it/s]\n"
     ]
    },
    {
     "name": "stdout",
     "output_type": "stream",
     "text": [
      "Source 258 / 282\n"
     ]
    },
    {
     "name": "stderr",
     "output_type": "stream",
     "text": [
      "100%|████████████████████████████████████████████████████████████████████████████████| 116/116 [01:28<00:00,  1.31it/s]\n"
     ]
    },
    {
     "name": "stdout",
     "output_type": "stream",
     "text": [
      "Source 259 / 282\n"
     ]
    },
    {
     "name": "stderr",
     "output_type": "stream",
     "text": [
      "100%|████████████████████████████████████████████████████████████████████████████████| 116/116 [01:28<00:00,  1.31it/s]\n"
     ]
    },
    {
     "name": "stdout",
     "output_type": "stream",
     "text": [
      "Source 260 / 282\n"
     ]
    },
    {
     "name": "stderr",
     "output_type": "stream",
     "text": [
      "100%|████████████████████████████████████████████████████████████████████████████████| 116/116 [01:27<00:00,  1.33it/s]\n"
     ]
    },
    {
     "name": "stdout",
     "output_type": "stream",
     "text": [
      "Source 261 / 282\n"
     ]
    },
    {
     "name": "stderr",
     "output_type": "stream",
     "text": [
      "100%|████████████████████████████████████████████████████████████████████████████████| 116/116 [01:28<00:00,  1.30it/s]\n"
     ]
    },
    {
     "name": "stdout",
     "output_type": "stream",
     "text": [
      "Source 262 / 282\n"
     ]
    },
    {
     "name": "stderr",
     "output_type": "stream",
     "text": [
      "100%|████████████████████████████████████████████████████████████████████████████████| 116/116 [01:27<00:00,  1.32it/s]\n"
     ]
    },
    {
     "name": "stdout",
     "output_type": "stream",
     "text": [
      "Source 263 / 282\n"
     ]
    },
    {
     "name": "stderr",
     "output_type": "stream",
     "text": [
      "100%|████████████████████████████████████████████████████████████████████████████████| 116/116 [01:28<00:00,  1.31it/s]\n"
     ]
    },
    {
     "name": "stdout",
     "output_type": "stream",
     "text": [
      "Source 264 / 282\n"
     ]
    },
    {
     "name": "stderr",
     "output_type": "stream",
     "text": [
      "100%|████████████████████████████████████████████████████████████████████████████████| 116/116 [01:29<00:00,  1.29it/s]\n"
     ]
    },
    {
     "name": "stdout",
     "output_type": "stream",
     "text": [
      "Source 265 / 282\n"
     ]
    },
    {
     "name": "stderr",
     "output_type": "stream",
     "text": [
      "100%|████████████████████████████████████████████████████████████████████████████████| 116/116 [01:29<00:00,  1.30it/s]\n"
     ]
    },
    {
     "name": "stdout",
     "output_type": "stream",
     "text": [
      "Source 266 / 282\n"
     ]
    },
    {
     "name": "stderr",
     "output_type": "stream",
     "text": [
      "100%|████████████████████████████████████████████████████████████████████████████████| 116/116 [01:28<00:00,  1.31it/s]\n"
     ]
    },
    {
     "name": "stdout",
     "output_type": "stream",
     "text": [
      "Source 267 / 282\n"
     ]
    },
    {
     "name": "stderr",
     "output_type": "stream",
     "text": [
      "100%|████████████████████████████████████████████████████████████████████████████████| 116/116 [01:30<00:00,  1.29it/s]\n"
     ]
    },
    {
     "name": "stdout",
     "output_type": "stream",
     "text": [
      "Source 268 / 282\n"
     ]
    },
    {
     "name": "stderr",
     "output_type": "stream",
     "text": [
      "100%|████████████████████████████████████████████████████████████████████████████████| 116/116 [01:29<00:00,  1.29it/s]\n"
     ]
    },
    {
     "name": "stdout",
     "output_type": "stream",
     "text": [
      "Source 269 / 282\n"
     ]
    },
    {
     "name": "stderr",
     "output_type": "stream",
     "text": [
      "100%|████████████████████████████████████████████████████████████████████████████████| 116/116 [01:29<00:00,  1.29it/s]\n"
     ]
    },
    {
     "name": "stdout",
     "output_type": "stream",
     "text": [
      "Source 270 / 282\n"
     ]
    },
    {
     "name": "stderr",
     "output_type": "stream",
     "text": [
      "100%|████████████████████████████████████████████████████████████████████████████████| 116/116 [01:29<00:00,  1.29it/s]\n"
     ]
    },
    {
     "name": "stdout",
     "output_type": "stream",
     "text": [
      "Source 271 / 282\n"
     ]
    },
    {
     "name": "stderr",
     "output_type": "stream",
     "text": [
      "100%|████████████████████████████████████████████████████████████████████████████████| 116/116 [01:30<00:00,  1.28it/s]\n"
     ]
    },
    {
     "name": "stdout",
     "output_type": "stream",
     "text": [
      "Source 272 / 282\n"
     ]
    },
    {
     "name": "stderr",
     "output_type": "stream",
     "text": [
      "100%|████████████████████████████████████████████████████████████████████████████████| 116/116 [01:28<00:00,  1.31it/s]\n"
     ]
    },
    {
     "name": "stdout",
     "output_type": "stream",
     "text": [
      "Source 273 / 282\n"
     ]
    },
    {
     "name": "stderr",
     "output_type": "stream",
     "text": [
      "100%|████████████████████████████████████████████████████████████████████████████████| 116/116 [01:30<00:00,  1.29it/s]\n"
     ]
    },
    {
     "name": "stdout",
     "output_type": "stream",
     "text": [
      "Source 274 / 282\n"
     ]
    },
    {
     "name": "stderr",
     "output_type": "stream",
     "text": [
      "100%|████████████████████████████████████████████████████████████████████████████████| 116/116 [01:28<00:00,  1.31it/s]\n"
     ]
    },
    {
     "name": "stdout",
     "output_type": "stream",
     "text": [
      "Source 275 / 282\n"
     ]
    },
    {
     "name": "stderr",
     "output_type": "stream",
     "text": [
      "100%|████████████████████████████████████████████████████████████████████████████████| 116/116 [01:29<00:00,  1.30it/s]\n"
     ]
    },
    {
     "name": "stdout",
     "output_type": "stream",
     "text": [
      "Source 276 / 282\n"
     ]
    },
    {
     "name": "stderr",
     "output_type": "stream",
     "text": [
      "100%|████████████████████████████████████████████████████████████████████████████████| 116/116 [01:28<00:00,  1.31it/s]\n"
     ]
    },
    {
     "name": "stdout",
     "output_type": "stream",
     "text": [
      "Source 277 / 282\n"
     ]
    },
    {
     "name": "stderr",
     "output_type": "stream",
     "text": [
      "100%|████████████████████████████████████████████████████████████████████████████████| 116/116 [01:29<00:00,  1.30it/s]\n"
     ]
    },
    {
     "name": "stdout",
     "output_type": "stream",
     "text": [
      "Source 278 / 282\n"
     ]
    },
    {
     "name": "stderr",
     "output_type": "stream",
     "text": [
      "100%|████████████████████████████████████████████████████████████████████████████████| 116/116 [01:28<00:00,  1.31it/s]\n"
     ]
    },
    {
     "name": "stdout",
     "output_type": "stream",
     "text": [
      "Source 279 / 282\n"
     ]
    },
    {
     "name": "stderr",
     "output_type": "stream",
     "text": [
      "100%|████████████████████████████████████████████████████████████████████████████████| 116/116 [01:28<00:00,  1.31it/s]\n"
     ]
    },
    {
     "name": "stdout",
     "output_type": "stream",
     "text": [
      "Source 280 / 282\n"
     ]
    },
    {
     "name": "stderr",
     "output_type": "stream",
     "text": [
      "100%|████████████████████████████████████████████████████████████████████████████████| 116/116 [01:27<00:00,  1.32it/s]\n"
     ]
    },
    {
     "name": "stdout",
     "output_type": "stream",
     "text": [
      "Source 281 / 282\n"
     ]
    },
    {
     "name": "stderr",
     "output_type": "stream",
     "text": [
      "100%|████████████████████████████████████████████████████████████████████████████████| 116/116 [01:27<00:00,  1.32it/s]\n"
     ]
    },
    {
     "name": "stdout",
     "output_type": "stream",
     "text": [
      "Source 282 / 282\n"
     ]
    },
    {
     "name": "stderr",
     "output_type": "stream",
     "text": [
      "100%|████████████████████████████████████████████████████████████████████████████████| 116/116 [01:27<00:00,  1.33it/s]\n",
      "100%|███████████████████████████████████████████████████████████████████████████████| 282/282 [00:01<00:00, 144.62it/s]\n"
     ]
    }
   ],
   "source": [
    "path0 = \"E:/McDonald backups/results_M11_Sept20_2\"\n",
    "#path1 = \"E:/McDonald backups/results_M11_Sept20_speed3\"\n",
    "snrs0, b_adu_0 = compute_snr(path0, rmags0, output0, ap_diam=58)\n",
    "#snrs1, b_adu_1 = compute_snr(path1, rmags1, output1, ap_diam=30)"
   ]
  },
  {
   "cell_type": "code",
   "execution_count": 37,
   "metadata": {},
   "outputs": [
    {
     "data": {
      "text/plain": [
       "(282, 269, 282, 269, 282)"
      ]
     },
     "execution_count": 37,
     "metadata": {},
     "output_type": "execute_result"
    }
   ],
   "source": [
    "len(rmags0), len(rmags1), len(gmags0), len(gmags1), len(snrs0)#, len(snrs1)"
   ]
  },
  {
   "cell_type": "code",
   "execution_count": 38,
   "metadata": {},
   "outputs": [
    {
     "data": {
      "text/plain": [
       "[54.72824200586165,\n",
       " 48.83987878742004,\n",
       " 49.0292462117354,\n",
       " 45.01428958113822,\n",
       " 47.98386770148476,\n",
       " 46.907763952513875,\n",
       " 48.9632154948945,\n",
       " 45.95964141705327,\n",
       " 46.24374318106911,\n",
       " 46.989242686637056,\n",
       " 44.96802382453583,\n",
       " 46.91252795506651,\n",
       " 44.216993216921544,\n",
       " 41.27642488552765,\n",
       " 38.26864909585895,\n",
       " 44.124740355521176,\n",
       " 40.02692047188665,\n",
       " 37.91852876730716,\n",
       " 42.644805391773446,\n",
       " 39.94962312091739,\n",
       " 39.32650350012967,\n",
       " 40.060990973979166,\n",
       " 42.362332904746026,\n",
       " 36.83292101120619,\n",
       " 35.97763335279942,\n",
       " 37.538566764108275,\n",
       " 36.90947961528806,\n",
       " 36.54434607544881,\n",
       " 32.830500089118075,\n",
       " 33.301547616674966,\n",
       " 36.426231004907294,\n",
       " 37.048511322166895,\n",
       " 30.975261672877814,\n",
       " 31.17941635557633,\n",
       " 32.745860834055485,\n",
       " 31.748275314528108,\n",
       " 31.111492501728925,\n",
       " 29.391363717819114,\n",
       " 29.18757178731684,\n",
       " 29.999062775719953,\n",
       " 27.6771200177738,\n",
       " 27.472641835651675,\n",
       " 25.604677500769913,\n",
       " 24.098586842177777,\n",
       " 25.189051241430082,\n",
       " 24.89040486664872,\n",
       " 23.720153573757873,\n",
       " 23.632406365770414,\n",
       " 23.12342411871982,\n",
       " 23.808720161409802,\n",
       " 22.09673411043763,\n",
       " 21.949060228034867,\n",
       " 21.98902240613215,\n",
       " 23.900851263426556,\n",
       " 22.264463678806624,\n",
       " 20.225355061120705,\n",
       " 20.86454776197456,\n",
       " 19.91855882870314,\n",
       " 19.204376784596317,\n",
       " 18.608456765731564,\n",
       " 18.874193487152066,\n",
       " 19.569915906802954,\n",
       " 18.945287123260503,\n",
       " 18.045486021307045,\n",
       " 19.043830303199382,\n",
       " 18.17311318225384,\n",
       " 17.728151539155334,\n",
       " 16.89131881292566,\n",
       " 16.046670804759266,\n",
       " 15.117232325926073,\n",
       " 14.78161447608207,\n",
       " 15.159777193241876,\n",
       " 16.043492790291598,\n",
       " 14.365139778002472,\n",
       " 15.063581242596696,\n",
       " 15.251108057837842,\n",
       " 14.54001595337712,\n",
       " 14.695749698833273,\n",
       " 13.202533680282171,\n",
       " 14.860927008785584,\n",
       " 12.405417585147205,\n",
       " 12.701316124189063,\n",
       " 12.7034052759693,\n",
       " 10.912466776886394,\n",
       " 11.282195981391277,\n",
       " 10.656776942067093,\n",
       " 10.727712614935397,\n",
       " 11.6019235561794,\n",
       " 10.685060963083833,\n",
       " 10.532119773333227,\n",
       " 9.730967362576617,\n",
       " 9.946321366625952,\n",
       " 10.508903474082711,\n",
       " 10.08761956833718,\n",
       " 9.587516513818773,\n",
       " 10.330372749974627,\n",
       " 9.515853425242595,\n",
       " 9.838805941794663,\n",
       " 9.298405760587162,\n",
       " 9.957702295660317,\n",
       " 9.885590089656255,\n",
       " 8.59006099755431,\n",
       " 9.342014108616105,\n",
       " 8.364613309708313,\n",
       " 9.356064379241213,\n",
       " 9.544010639499813,\n",
       " 8.29810237126374,\n",
       " 8.161050326158216,\n",
       " 9.0615957095992,\n",
       " 8.41071178837443,\n",
       " 8.599569180872164,\n",
       " 7.934197607716943,\n",
       " 8.510485062499534,\n",
       " 8.661034300846602,\n",
       " 8.566183434967634,\n",
       " 8.171227143502422,\n",
       " 8.554246288395477,\n",
       " 8.430335376088326,\n",
       " 7.7152957092738115,\n",
       " 7.860588654779599,\n",
       " 7.7286329972461,\n",
       " 7.667227016570929,\n",
       " 7.93902984648818,\n",
       " 7.747604316354642,\n",
       " 7.4744964184836675,\n",
       " 7.765830444029445,\n",
       " 6.711920754672016,\n",
       " 7.07388674596722,\n",
       " 8.003496120214518,\n",
       " 7.763302058323598,\n",
       " 6.613386778922962,\n",
       " 6.590914055256145,\n",
       " 6.567197292686432,\n",
       " 6.516440021435706,\n",
       " 6.491211059093454,\n",
       " 7.8247449727186,\n",
       " 6.149865158903259,\n",
       " 6.666052020805136,\n",
       " 6.254037222786699,\n",
       " 6.6200406970243675,\n",
       " 7.091806171247921,\n",
       " 6.5889898427543745,\n",
       " 6.88806798128675,\n",
       " 6.722002334740261,\n",
       " 6.2863854703282325,\n",
       " 5.8849155281176015,\n",
       " 6.522380396566366,\n",
       " 6.032922376725562,\n",
       " 6.327676374557925,\n",
       " 6.093911788974309,\n",
       " 5.896002991065603,\n",
       " 6.018628634426654,\n",
       " 5.9566489214421425,\n",
       " 6.367580806408055,\n",
       " 5.655328875532331,\n",
       " 5.316162821465927,\n",
       " 6.127017797842199,\n",
       " 5.381288982014092,\n",
       " 5.0399816894671075,\n",
       " 4.94494531358252,\n",
       " 4.868537225037731,\n",
       " 4.953252091278593,\n",
       " 5.072050643679705,\n",
       " 4.877107216718924,\n",
       " 5.361649780560224,\n",
       " 5.463556855333935,\n",
       " 5.129630899294041,\n",
       " 5.740870521338437,\n",
       " 4.866509112992961,\n",
       " 4.700832424721639,\n",
       " 4.99030332370056,\n",
       " 5.423657112250306,\n",
       " 5.061608307450257,\n",
       " 4.582062972476556,\n",
       " 5.807669895860579,\n",
       " 6.400773582921692,\n",
       " 4.334643783354172,\n",
       " 4.591528980283116,\n",
       " 4.336394741828279,\n",
       " 4.319992251184125,\n",
       " 4.233531458643238,\n",
       " 4.930029500200982,\n",
       " 4.873245037724347,\n",
       " 4.791938697166817,\n",
       " 4.616578005289226,\n",
       " 4.417436694941035,\n",
       " 4.5312100111692,\n",
       " 4.349793115706538,\n",
       " 4.081555349698497,\n",
       " 4.039787126188294,\n",
       " 4.229857043786325,\n",
       " 4.145675693005619,\n",
       " 4.471311143491504,\n",
       " 4.208852898457748,\n",
       " 4.531885729723474,\n",
       " 3.964146920267203,\n",
       " 4.172564681550694,\n",
       " 4.316325219528878,\n",
       " 4.1986107583273355,\n",
       " 4.95757340627003,\n",
       " 4.424274186236,\n",
       " 4.105610335618909,\n",
       " 4.500796096834812,\n",
       " 3.6691203949324986,\n",
       " 4.036437938725323,\n",
       " 4.210112793226312,\n",
       " 3.8346991450626735,\n",
       " 3.5356778939741487,\n",
       " 4.319975106043498,\n",
       " 3.796412351334258,\n",
       " 4.078254323596796,\n",
       " 3.5825045917626244,\n",
       " 3.420422503473961,\n",
       " 3.4253210402244525,\n",
       " 3.2791222936012163,\n",
       " 4.0756507139254845,\n",
       " 4.556408181313614,\n",
       " 3.8981516535583376,\n",
       " 3.0904885374755198,\n",
       " 3.6650122853154627,\n",
       " 3.379784723467653,\n",
       " 3.2377369156201032,\n",
       " 3.5353346360657785,\n",
       " 3.4706697897673577,\n",
       " 3.589150526421088,\n",
       " 3.039254358509013,\n",
       " 3.137087572110442,\n",
       " 3.712202926883391,\n",
       " 3.0152900815283714,\n",
       " 2.867930861288863,\n",
       " 3.094775229723475,\n",
       " 2.9076522724873684,\n",
       " 2.684542242749578,\n",
       " 2.987724960655446,\n",
       " 2.83367895180707,\n",
       " 2.9127774514514195,\n",
       " 2.9665901969922492,\n",
       " 2.8222246944697953,\n",
       " 2.516958207072343,\n",
       " 2.51696302619499,\n",
       " 2.7366826068705987,\n",
       " 2.6140160993570096,\n",
       " 2.829208986100638,\n",
       " 2.9601032078977836,\n",
       " 2.450579095605111,\n",
       " 3.749458261026869,\n",
       " 2.5393324830042916,\n",
       " 2.6198336686452954,\n",
       " 2.567396038310403,\n",
       " 2.7817145224047453,\n",
       " 2.4110886986753117,\n",
       " 2.622277391580065,\n",
       " 2.543589184569884,\n",
       " 2.7643233679110355,\n",
       " 2.3402583021100116,\n",
       " 2.7665517502689556,\n",
       " 3.16948567246571,\n",
       " 2.3350765854348166,\n",
       " 2.5069512833881142,\n",
       " 2.4569887115818076,\n",
       " 2.962484124835153,\n",
       " 2.210423317137014,\n",
       " 2.7086473821931287,\n",
       " 2.4877757668172897,\n",
       " 2.200208657349089,\n",
       " 2.288325777764142,\n",
       " 2.174228486882448,\n",
       " 2.5320989920246393,\n",
       " 3.007629481862617,\n",
       " 2.2772762465821867,\n",
       " 2.6230721922885745,\n",
       " 2.2844918452441956,\n",
       " 2.2417220532990183,\n",
       " 2.6163091268231913,\n",
       " 2.407528215710118,\n",
       " 2.1692069101400495,\n",
       " 2.205530603442096,\n",
       " 2.2910655732224945,\n",
       " 2.4072455461374096,\n",
       " 1.945702899060544,\n",
       " 1.993834861869961,\n",
       " 2.32796258852424]"
      ]
     },
     "execution_count": 38,
     "metadata": {},
     "output_type": "execute_result"
    }
   ],
   "source": [
    "snrs0"
   ]
  },
  {
   "cell_type": "code",
   "execution_count": 14,
   "metadata": {},
   "outputs": [
    {
     "data": {
      "text/plain": [
       "\"\\n# relation between rmags0 and gmags0 in the field\\n#X = np.vander(rmags0, 3)\\n#y = np.array(gmags0)\\n#plt.scatter(rmags0, gmags0)\\n#plt.grid()\\n#np.linalg.lstsq(X, y)\\n#np.where(np.isnan(X))\\n#np.linalg.lstsq?\\nrmags0_ = np.array(rmags0)\\ngmags0_ = np.array(gmags0)\\n\\n#indices = [i for i in range(len(rmags0_)) if np.isnan(rmags0_[i]) == False or np.isnan(gmags0_[i]) == False]\\nindices = []\\nfor i, (rmag, gmag) in enumerate(zip(rmags0_, gmags0_)):\\n    if np.isnan(rmag) or np.isnan(gmag) or rmag < 12:\\n        continue\\n    else:\\n        indices.append(i)\\n\\nrmags0_, gmags0_ = rmags0_[indices], gmags0_[indices]\\n#X = np.vander(rmags0_, 4)\\n#X = np.vander(rmags0_, 3)\\nX = np.vander(rmags0_, 2)\\ny = np.array(gmags0_)\\nres = np.linalg.lstsq(X, y)[0]\\nrgrid = np.linspace(np.min(rmags0_), np.max(rmags0_), 100)\\n#rpred = res[3] + (rgrid * res[2]) + (rgrid**2 * res[1]) + (rgrid**3 * res[0])\\n#rpred = res[2] + (rgrid * res[1]) + (rgrid**2 * res[0])\\ngpred = res[1] + (rgrid * res[0])\\n#gpred = -1.1 + (rgrid * 1.1)\\nplt.plot(rgrid, gpred)\\nplt.scatter(rmags0_, gmags0_, c='k')\\nplt.grid()\\n\""
      ]
     },
     "execution_count": 14,
     "metadata": {},
     "output_type": "execute_result"
    }
   ],
   "source": [
    "'''\n",
    "# relation between rmags0 and gmags0 in the field\n",
    "#X = np.vander(rmags0, 3)\n",
    "#y = np.array(gmags0)\n",
    "#plt.scatter(rmags0, gmags0)\n",
    "#plt.grid()\n",
    "#np.linalg.lstsq(X, y)\n",
    "#np.where(np.isnan(X))\n",
    "#np.linalg.lstsq?\n",
    "rmags0_ = np.array(rmags0)\n",
    "gmags0_ = np.array(gmags0)\n",
    "\n",
    "#indices = [i for i in range(len(rmags0_)) if np.isnan(rmags0_[i]) == False or np.isnan(gmags0_[i]) == False]\n",
    "indices = []\n",
    "for i, (rmag, gmag) in enumerate(zip(rmags0_, gmags0_)):\n",
    "    if np.isnan(rmag) or np.isnan(gmag) or rmag < 12:\n",
    "        continue\n",
    "    else:\n",
    "        indices.append(i)\n",
    "\n",
    "rmags0_, gmags0_ = rmags0_[indices], gmags0_[indices]\n",
    "#X = np.vander(rmags0_, 4)\n",
    "#X = np.vander(rmags0_, 3)\n",
    "X = np.vander(rmags0_, 2)\n",
    "y = np.array(gmags0_)\n",
    "res = np.linalg.lstsq(X, y)[0]\n",
    "rgrid = np.linspace(np.min(rmags0_), np.max(rmags0_), 100)\n",
    "#rpred = res[3] + (rgrid * res[2]) + (rgrid**2 * res[1]) + (rgrid**3 * res[0])\n",
    "#rpred = res[2] + (rgrid * res[1]) + (rgrid**2 * res[0])\n",
    "gpred = res[1] + (rgrid * res[0])\n",
    "#gpred = -1.1 + (rgrid * 1.1)\n",
    "plt.plot(rgrid, gpred)\n",
    "plt.scatter(rmags0_, gmags0_, c='k')\n",
    "plt.grid()\n",
    "'''"
   ]
  },
  {
   "cell_type": "code",
   "execution_count": 39,
   "metadata": {},
   "outputs": [],
   "source": [
    "def compute_theoretical_snr(mode, gamma, b_adu, ap_diam, D_tel, h_obs):\n",
    "    \n",
    "    if mode == 'Sensitivity':\n",
    "        gain = 0.25 # e- / ADU\n",
    "        de = 1.03 # speed mode = 3, sens = 1.03\n",
    "        rho = 1.2 # speed mode = 2, sens = 1.2\n",
    "        ts = 0.0125\n",
    "    elif mode == 'Speed':\n",
    "        gain = 0.85 # e- / ADU\n",
    "        de = 3 # speed mode = 3, sens = 1.03\n",
    "        rho = 2 # speed mode = 2, sens = 1.2   \n",
    "        ts = 0.003\n",
    "    elif mode == 'TAOS':\n",
    "        gain = 0.3 # e-/ADU\n",
    "        de = 50\n",
    "        rho = 5\n",
    "        ts = 0.05\n",
    "    elif mode == 'EMCCD':\n",
    "        G = 300\n",
    "        rho = 60\n",
    "        c = 0.06\n",
    "        gain = 25.8 / 300\n",
    "        ts = 0.0125\n",
    "    \n",
    "    # convert sky background ADU -> e-\n",
    "    be = gain * b_adu\n",
    "    \n",
    "    # aperture and sky background pixels\n",
    "    npix = ap_diam**2\n",
    "    pb = (2*ap_diam)**2\n",
    "    #pb = 100**2\n",
    "\n",
    "    flam_Vega_r = 2.177e-11 # W m-2 nm-1 (R-band)\n",
    "    lam_r = 644e-9 # nm (R-band)\n",
    "    \n",
    "    flam_Vega_g = 3 * flam_Vega_r # W m-2 nm-1 (g-band)\n",
    "    lam_g = 464e-9  # nm (g-band)\n",
    "\n",
    "    mags = np.linspace(9, 17, 100)\n",
    "    snrs_theor = []\n",
    "    for mag in mags:\n",
    "        #n_ = photon_rate(mag=mag, fref=flam_Vega, lam=658e-9, h=6.63e-34, c=3e8)\n",
    "        \n",
    "        n_r = photon_rate(mag=mag, mref=mVega, fref=flam_Vega_r, lam=lam_r, h=6.63e-34, c=3e8)\n",
    "        '''\n",
    "        if mag >= 12:\n",
    "            n_g = photon_rate(mag=res[1] + (mag * res[0]), mref=mVega, fref=flam_Vega_g, lam=lam_g, h=6.63e-34, c=3e8)\n",
    "            #n_g = photon_rate(mag=-1.1 + (mag * 1.1), mref=mVega, fref=flam_Vega_g, lam=lam_g, h=6.63e-34, c=3e8)\n",
    "            #n_g = photon_rate(mag=mag + 0.25, mref=mVega, fref=flam_Vega_g, lam=lam_g, h=6.63e-34, c=3e8)\n",
    "        else:\n",
    "            n_g = photon_rate(mag=mag, mref=mVega, fref=flam_Vega_g, lam=lam_g, h=6.63e-34, c=3e8)\n",
    "        n_star_r = telescope_photon_rate(n_r, D=D_tel, del_lam=100, q=0.8)\n",
    "        n_star_g = telescope_photon_rate(n_g, D=D_tel, del_lam=100, q=0.4)\n",
    "        n_star = n_star_r + n_star_g\n",
    "        '''\n",
    "        #n_star = telescope_photon_rate(n_, D=D_tel, del_lam=138, q=1) \n",
    "        n_star = telescope_photon_rate(n_r, D=D_tel, del_lam=138, q=1)\n",
    "        #n_star = telescope_photon_rate(n_g, D=D_tel, del_lam=100, q=0.7)\n",
    "        if mode != 'EMCCD':\n",
    "            snrs_theor.append(ccd_noise_equation(ts, n_star, be, de, rho, npix, pb, D=D_tel, gamma=gamma, h_obs=h_obs))\n",
    "        else:\n",
    "            snrs_theor.append(emccd_noise_equation(ts, n_star, be, c, rho, G, npix, pb, D=D_tel, gamma=gamma, h_obs=h_obs))\n",
    "           \n",
    "\n",
    "    return snrs_theor, mags"
   ]
  },
  {
   "cell_type": "code",
   "execution_count": 57,
   "metadata": {},
   "outputs": [],
   "source": [
    "#gamma0 = 60 * (np.pi / 180)\n",
    "#gamma1 = 70 * (np.pi / 180)\n",
    "gamma0 = 40 * (np.pi / 180)\n",
    "#gamma1 = 45 * (np.pi / 180)\n",
    "ap_diam0 = 58\n",
    "ap_diam1 = 40\n",
    "snrs_theor0, mags = compute_theoretical_snr('Sensitivity', gamma0, b_adu_0, ap_diam0, D_tel=2.1, h_obs=2e3)\n",
    "#snrs_theor1, mags = compute_theoretical_snr('Speed', gamma1, b_adu_1, ap_diam1, D_tel=2.1, h_obs=2e3)\n",
    "#snrs_theor2, mags = compute_theoretical_snr('Sensitivity', gamma0, b_adu_0, ap_diam0, D_tel=11.25, h_obs=4e3)\n",
    "snrs_theor2, mags = compute_theoretical_snr('Sensitivity', gamma0, b_adu_0, ap_diam0, D_tel=8, h_obs=2500)\n",
    "#snrs_theor3, mags = compute_theoretical_snr('Speed', gamma1, b_adu_1, ap_diam1, D_tel=11.25, h_obs=4e3)\n",
    "snrs_theor4, mags = compute_theoretical_snr('TAOS', gamma0, b_adu_0, ap_diam1, D_tel=1.3, h_obs=3e3)\n",
    "#snrs_theor5, mags = compute_theoretical_snr('EMCCD', gamma0, b_adu_0, ap_diam1, D_tel=1.3, h_obs=3e3)\n",
    "snrs_theor6, mags = compute_theoretical_snr('Sensitivity', gamma0, b_adu_0, ap_diam0, D_tel=4, h_obs=2500)"
   ]
  },
  {
   "cell_type": "code",
   "execution_count": 58,
   "metadata": {},
   "outputs": [
    {
     "data": {
      "text/plain": [
       "Text(0, 0.5, 'SNR')"
      ]
     },
     "execution_count": 58,
     "metadata": {},
     "output_type": "execute_result"
    },
    {
     "data": {
      "image/png": "[encoded data removed]",
      "text/plain": [
       "<Figure size 1500x1000 with 1 Axes>"
      ]
     },
     "metadata": {},
     "output_type": "display_data"
    }
   ],
   "source": [
    "fs = 18\n",
    "alpha = 0.5\n",
    "s = 10\n",
    "plt.figure(figsize=(15,10))\n",
    "plt.plot(mags, snrs_theor0, c='k', linestyle='-',\n",
    "         alpha=0.75, label='McDonald 2.1 m (Sensitivity mode: 80 Hz)')\n",
    "plt.scatter(rmags0, snrs0, c='k', s=s, alpha=alpha)\n",
    "#plt.scatter(gmags0, snrs0, c='k', s=s, alpha=alpha)\n",
    "#plt.plot(mags, snrs_theor1, c='k', linestyle='--',\n",
    "#         alpha=0.75, label='McDonald 2.1 m (Speed mode: 300 Hz)')\n",
    "#plt.scatter(rmags1, snrs1, c='k', s=s, marker='x', alpha=alpha)\n",
    "#plt.scatter(gmags1, snrs1, c='k', s=s, marker='x', alpha=alpha)\n",
    "#plt.plot(mags, snrs_theor2, c='royalblue', linestyle='-', label='MSE (Sensitivity mode: 80 Hz)')\n",
    "plt.plot(mags, snrs_theor2, c='royalblue', linestyle='-', label='8 m (Sensitivity mode: 80 Hz)')\n",
    "plt.plot(mags, snrs_theor6, c='royalblue', linestyle='--', label='4 m (Sensitivity mode: 80 Hz)')\n",
    "#plt.plot(mags, snrs_theor3, c='royalblue', linestyle='--', label='MSE (Speed mode: 300 Hz)')\n",
    "plt.plot(mags, snrs_theor4, c='darkorange', linestyle='-.', label='1.3 m TAOS II (20 Hz)')\n",
    "#plt.plot(mags, snrs_theor5, c='magenta', linestyle='-.', label='EMCCD (80 Hz)')\n",
    "#plt.grid()\n",
    "#plt.hlines(23, 9, 17, alpha=alpha)\n",
    "#plt.hlines(11.27, 9, 17, linestyle='--', alpha=alpha)\n",
    "plt.xlim(9, 17)\n",
    "plt.tick_params(labelsize=fs)\n",
    "plt.legend(fontsize='xx-large', loc='lower left')\n",
    "plt.yscale('log')\n",
    "plt.xlabel('r [magnitude]', fontsize=fs)\n",
    "plt.ylabel('SNR', fontsize=fs)\n",
    "#plt.savefig('SNR_curve.png', bbox_inches='tight')"
   ]
  },
  {
   "cell_type": "code",
   "execution_count": 69,
   "metadata": {},
   "outputs": [
    {
     "data": {
      "text/plain": [
       "Text(0, 0.5, 'SNR')"
      ]
     },
     "execution_count": 69,
     "metadata": {},
     "output_type": "execute_result"
    },
    {
     "data": {
      "image/png": "[encoded data removed]",
      "text/plain": [
       "<Figure size 1500x1000 with 1 Axes>"
      ]
     },
     "metadata": {},
     "output_type": "display_data"
    }
   ],
   "source": [
    "gamma0 = 40 * (np.pi / 180)\n",
    "ap_diam0 = 58\n",
    "snrs_theor0, mags = compute_theoretical_snr('Sensitivity', gamma0, b_adu_0, ap_diam0, D_tel=2.1, h_obs=2e3)\n",
    "snrs_theor1, mags = compute_theoretical_snr('Sensitivity', gamma0, b_adu_0, ap_diam0 / 2, D_tel=2.1, h_obs=2e3)\n",
    "snrs_theor2, mags = compute_theoretical_snr('Sensitivity', gamma0, b_adu_0, ap_diam0 / 4, D_tel=2.1, h_obs=2e3)\n",
    "snrs_theor3, mags = compute_theoretical_snr('Sensitivity', gamma0, b_adu_0, ap_diam0, D_tel=8, h_obs=2.5e3)\n",
    "snrs_theor4, mags = compute_theoretical_snr('Sensitivity', gamma0, b_adu_0, ap_diam0 / 2, D_tel=8, h_obs=2.5e3)\n",
    "snrs_theor5, mags = compute_theoretical_snr('Sensitivity', gamma0, b_adu_0, ap_diam0 / 4, D_tel=8, h_obs=2.5e3)\n",
    "\n",
    "fs = 18\n",
    "alpha = 0.5\n",
    "s = 10\n",
    "plt.figure(figsize=(15,10))\n",
    "plt.plot(mags, snrs_theor0, c='k', linestyle='-',\n",
    "         alpha=0.75, label='McDonald 2.1 m (Sensitivity mode: 80 Hz, plate scale 0.08”/pixel)')\n",
    "plt.plot(mags, snrs_theor1, c='k', linestyle='--',\n",
    "         alpha=0.75, label='McDonald 2.1 m (Sensitivity mode: 80 Hz, plate scale 0.16”/pixel)')\n",
    "plt.plot(mags, snrs_theor2, c='k', linestyle='-.',\n",
    "         alpha=0.75, label='McDonald 2.1 m (Sensitivity mode: 80 Hz, plate scale 0.32”/pixel)')\n",
    "plt.plot(mags, snrs_theor3, c='royalblue', linestyle='-',\n",
    "         alpha=0.75, label='8 m (Sensitivity mode: 80 Hz, plate scale 0.08”/pixel)')\n",
    "plt.plot(mags, snrs_theor4, c='royalblue', linestyle='--',\n",
    "         alpha=0.75, label='8 m (Sensitivity mode: 80 Hz, plate scale 0.16”/pixel)')\n",
    "plt.plot(mags, snrs_theor5, c='royalblue', linestyle='-.',\n",
    "         alpha=0.75, label='8 m (Sensitivity mode: 80 Hz, plate scale 0.32”/pixel)')\n",
    "\n",
    "plt.xlim(9, 17)\n",
    "plt.tick_params(labelsize=fs)\n",
    "plt.legend(fontsize='xx-large', loc='lower left')\n",
    "plt.yscale('log')\n",
    "plt.xlabel('r [magnitude]', fontsize=fs)\n",
    "plt.ylabel('SNR', fontsize=fs)"
   ]
  },
  {
   "cell_type": "code",
   "execution_count": 56,
   "metadata": {},
   "outputs": [
    {
     "data": {
      "text/plain": [
       "Text(0, 0.5, 'SNR')"
      ]
     },
     "execution_count": 56,
     "metadata": {},
     "output_type": "execute_result"
    },
    {
     "data": {
      "image/png": "[encoded data removed]",
      "text/plain": [
       "<Figure size 1500x1000 with 1 Axes>"
      ]
     },
     "metadata": {},
     "output_type": "display_data"
    }
   ],
   "source": [
    "fs = 18\n",
    "plt.figure(figsize=(15,10))\n",
    "plt.plot(mags, snrs_theor0, c='k', linestyle='-',\n",
    "         alpha=0.75, label='McDonald 2.1 m (Sensitivity mode: 80 Hz)')\n",
    "plt.scatter(rmags0, snrs0, c='k', alpha=0.2)\n",
    "plt.plot(mags, snrs_theor1, c='k', linestyle='--',\n",
    "         alpha=0.75, label='McDonald 2.1 m (Speed mode: 300 Hz)')\n",
    "plt.scatter(rmags1, snrs1, c='k', marker='x', alpha=0.2)\n",
    "plt.plot(mags, snrs_theor2, c='navy', linestyle='-', label='MSE (Sensitivity mode: 80 Hz)')\n",
    "plt.plot(mags, snrs_theor3, c='navy', linestyle='--', label='MSE (Speed mode: 300 Hz)')\n",
    "plt.plot(mags, snrs_theor4, c='darkorange', linestyle='-.', label='TAOS II (20 Hz)')\n",
    "#plt.grid()\n",
    "alpha = 0.5\n",
    "#plt.hlines(23, 9, 17, alpha=alpha)\n",
    "#plt.hlines(11.27, 9, 17, linestyle='--', alpha=alpha)\n",
    "plt.xlim(9, 17)\n",
    "plt.tick_params(labelsize=fs)\n",
    "plt.legend(fontsize='xx-large', loc='lower left')\n",
    "plt.yscale('log')\n",
    "plt.xlabel('r [magnitude]', fontsize=fs)\n",
    "plt.ylabel('SNR', fontsize=fs)\n",
    "#plt.savefig('SNR_curve.png', bbox_inches='tight')"
   ]
  },
  {
   "cell_type": "code",
   "execution_count": null,
   "metadata": {},
   "outputs": [],
   "source": [
    "# over correction of top end\n",
    "# leaking of neighbour flux in faint sources (crowded field)"
   ]
  },
  {
   "cell_type": "code",
   "execution_count": 20,
   "metadata": {},
   "outputs": [
    {
     "data": {
      "text/plain": [
       "(100, 8)"
      ]
     },
     "execution_count": 20,
     "metadata": {},
     "output_type": "execute_result"
    }
   ],
   "source": [
    "# lab test flux check\n",
    "import os\n",
    "import numpy as np\n",
    "import matplotlib.pyplot as plt\n",
    "\n",
    "path = \"D:/offline_tests/results_scene_0\"\n",
    "data = np.load(os.path.join(path, 'skys_batch0.npy'))\n",
    "#data = np.load(os.path.join(path, 'photometry_batch0.npy'))\n",
    "data.shape"
   ]
  },
  {
   "cell_type": "code",
   "execution_count": 21,
   "metadata": {},
   "outputs": [
    {
     "data": {
      "text/plain": [
       "[<matplotlib.lines.Line2D at 0x16d62dbdc40>]"
      ]
     },
     "execution_count": 21,
     "metadata": {},
     "output_type": "execute_result"
    },
    {
     "data": {
      "image/png": "[encoded data removed]",
      "text/plain": [
       "<Figure size 640x480 with 1 Axes>"
      ]
     },
     "metadata": {},
     "output_type": "display_data"
    }
   ],
   "source": [
    "plt.plot(data[:,0])"
   ]
  },
  {
   "cell_type": "code",
   "execution_count": 17,
   "metadata": {},
   "outputs": [
    {
     "data": {
      "text/plain": [
       "[<matplotlib.lines.Line2D at 0x1ed84404a00>]"
      ]
     },
     "execution_count": 17,
     "metadata": {},
     "output_type": "execute_result"
    },
    {
     "data": {
      "image/png": "[encoded data removed]",
      "text/plain": [
       "<Figure size 640x480 with 1 Axes>"
      ]
     },
     "metadata": {},
     "output_type": "display_data"
    }
   ],
   "source": [
    "plt.plot(data[:,0])"
   ]
  },
  {
   "cell_type": "code",
   "execution_count": null,
   "metadata": {},
   "outputs": [],
   "source": [
    "# HST star hours 19,500, Nature paper star hours 6.05e4\n",
    "# HST:r = 530 ± 70 m and a distance of 35 ± 9 AU.\n",
    "# Nature: KBO, radius of ~1.3 km\n",
    "# TAOS (I): star hours 292,514\n",
    "# X-ray Oort paper: 1.6 Ms i.e. 444 star hours\n",
    "# McDonald star hours (per night)\n",
    "# ~200 stars per field, observe for ~8 hours per night\n",
    "# star hours = 200 * 8 = 1600 hours per night"
   ]
  }
 ],
 "metadata": {
  "kernelspec": {
   "display_name": "Python 3 (ipykernel)",
   "language": "python",
   "name": "python3"
  },
  "language_info": {
   "codemirror_mode": {
    "name": "ipython",
    "version": 3
   },
   "file_extension": ".py",
   "mimetype": "text/x-python",
   "name": "python",
   "nbconvert_exporter": "python",
   "pygments_lexer": "ipython3",
   "version": "3.9.7"
  }
 },
 "nbformat": 4,
 "nbformat_minor": 2
}
