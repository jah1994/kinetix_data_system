{
 "cells": [
  {
   "cell_type": "code",
   "execution_count": 1,
   "id": "4089c757",
   "metadata": {},
   "outputs": [
    {
     "data": {
      "text/plain": [
       "['D:/McDonald_analysis/analysis/results\\\\results_M11_peaks.npy',\n",
       " 'D:/McDonald_analysis/analysis/results\\\\results_M11_sensitivity_peaks.npy',\n",
       " 'D:/McDonald_analysis/analysis/results\\\\results_M11_Sept18_peaks.npy',\n",
       " 'D:/McDonald_analysis/analysis/results\\\\results_M11_Sept19_AGtest_peaks.npy',\n",
       " 'D:/McDonald_analysis/analysis/results\\\\results_M11_Sept20_2_peaks.npy',\n",
       " 'D:/McDonald_analysis/analysis/results\\\\results_M11_Sept20_peaks.npy',\n",
       " 'D:/McDonald_analysis/analysis/results\\\\results_M11_Sept21_peaks.npy',\n",
       " 'D:/McDonald_analysis/analysis/results\\\\results_M11_Sept22_peaks.npy',\n",
       " 'D:/McDonald_analysis/analysis/results\\\\results_M37_peaks.npy',\n",
       " 'D:/McDonald_analysis/analysis/results\\\\results_M37_Sept20_peaks.npy',\n",
       " 'D:/McDonald_analysis/analysis/results\\\\results_NGC6811_Sept22_peaks.npy',\n",
       " 'D:/McDonald_analysis/analysis/results\\\\results_NGC7788_Sept20_peaks.npy',\n",
       " 'D:/McDonald_analysis/analysis/results\\\\results_NGC884_peaks.npy',\n",
       " 'D:/McDonald_analysis/analysis/results\\\\results_NGC884_sensitivity_peaks.npy',\n",
       " 'D:/McDonald_analysis/analysis/results\\\\results_NGC884_Sept20_peaks.npy']"
      ]
     },
     "execution_count": 1,
     "metadata": {},
     "output_type": "execute_result"
    }
   ],
   "source": [
    "# imports\n",
    "from tqdm import tqdm # progressbar\n",
    "import os\n",
    "import numpy as np\n",
    "from astropy.stats import mad_std\n",
    "import matplotlib.pyplot as plt\n",
    "import matplotlib.image as mpimg\n",
    "import time\n",
    "\n",
    "\n",
    "# find SNR peak files\n",
    "path = \"D:/McDonald_analysis/analysis/results\"\n",
    "path_imgs = \"D:/McDonald_analysis/analysis/closeups/\"\n",
    "key = \"peaks.npy\"\n",
    "for d,s,f in os.walk(path):\n",
    "    files = [os.path.join(path, file) for file in f if key in file and 'speed' not in file]\n",
    "files"
   ]
  },
  {
   "cell_type": "code",
   "execution_count": 1,
   "id": "3ba260bb",
   "metadata": {},
   "outputs": [
    {
     "ename": "NameError",
     "evalue": "name 'files' is not defined",
     "output_type": "error",
     "traceback": [
      "\u001b[1;31m---------------------------------------------------------------------------\u001b[0m",
      "\u001b[1;31mNameError\u001b[0m                                 Traceback (most recent call last)",
      "Cell \u001b[1;32mIn[1], line 3\u001b[0m\n\u001b[0;32m      1\u001b[0m \u001b[38;5;66;03m# res_local_peaks.append([i, snr_maxs, loc_check, t_ids])\u001b[39;00m\n\u001b[0;32m      2\u001b[0m \u001b[38;5;66;03m# identify isolated peaks in each file\u001b[39;00m\n\u001b[1;32m----> 3\u001b[0m \u001b[38;5;28;01mfor\u001b[39;00m file \u001b[38;5;129;01min\u001b[39;00m \u001b[43mfiles\u001b[49m:\n\u001b[0;32m      5\u001b[0m     \u001b[38;5;28mprint\u001b[39m(file)\n\u001b[0;32m      7\u001b[0m     \u001b[38;5;66;03m# load the result file\u001b[39;00m\n",
      "\u001b[1;31mNameError\u001b[0m: name 'files' is not defined"
     ]
    }
   ],
   "source": [
    "# res_local_peaks.append([i, snr_maxs, loc_check, t_ids])\n",
    "# identify isolated peaks in each file\n",
    "for file in files:\n",
    "    \n",
    "    print(file)\n",
    "    \n",
    "    # load the result file\n",
    "    res = np.load(file, allow_pickle=True)\n",
    "    \n",
    "    # all locations\n",
    "    peak_locs = []\n",
    "    source_ids = []\n",
    "    for i in range(len(res)):\n",
    "        source, peaks, locations, templates = res[i]\n",
    "        for loc in locations:\n",
    "            peak_locs.append(loc)\n",
    "            source_ids.append(source)\n",
    "            \n",
    "            \n",
    "    # find isolated peaks\n",
    "    window = 1875\n",
    "    peak_locs = np.array(peak_locs)\n",
    "    for i,(peak, source) in enumerate(zip(peak_locs, source_ids)):\n",
    "\n",
    "        # remove the particular peak\n",
    "        peak_locs_ = np.delete(peak_locs, i)\n",
    "        diff = np.abs(peak - peak_locs_)\n",
    "\n",
    "        # is the peak sufficiently isolated?\n",
    "        if np.all(diff > window) == True:\n",
    "            #print(source, peak)\n",
    "            #print('Isolated peak!')\n",
    "\n",
    "            # Load the .png image file\n",
    "            subdir = file.split('/')[-1].split('_peaks')[0].split('results\\\\')[-1]\n",
    "            img_path = os.path.join(path_imgs, subdir, str(source) + '_' + str(peak) + '.png')\n",
    "            try:\n",
    "                img = mpimg.imread(img_path)\n",
    "\n",
    "                # Plot the image\n",
    "                plt.figure(figsize=(20,20))\n",
    "                plt.imshow(img)\n",
    "                plt.axis('off')  # Optional: Turn off the axes\n",
    "                plt.show()\n",
    "            except Exception as e:\n",
    "                print(e)"
   ]
  },
  {
   "cell_type": "code",
   "execution_count": null,
   "id": "d6e74d2d",
   "metadata": {},
   "outputs": [],
   "source": []
  }
 ],
 "metadata": {
  "kernelspec": {
   "display_name": "Python 3 (ipykernel)",
   "language": "python",
   "name": "python3"
  },
  "language_info": {
   "codemirror_mode": {
    "name": "ipython",
    "version": 3
   },
   "file_extension": ".py",
   "mimetype": "text/x-python",
   "name": "python",
   "nbconvert_exporter": "python",
   "pygments_lexer": "ipython3",
   "version": "3.9.7"
  }
 },
 "nbformat": 4,
 "nbformat_minor": 5
}
