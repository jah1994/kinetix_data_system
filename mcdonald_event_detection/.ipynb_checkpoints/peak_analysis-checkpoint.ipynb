{
 "cells": [
  {
   "cell_type": "code",
   "execution_count": 1,
   "id": "4089c757",
   "metadata": {},
   "outputs": [
    {
     "data": {
      "text/plain": [
       "['D:/McDonaldObs_Feb_2024/Analysis_PCA/Analysis_18th_Feb/RUN_0\\\\SCENE_0\\\\analysis\\\\results\\\\res_local_peaks.npy',\n",
       " 'D:/McDonaldObs_Feb_2024/Analysis_PCA/Analysis_18th_Feb/RUN_1\\\\SCENE_0\\\\analysis\\\\results\\\\res_local_peaks.npy',\n",
       " 'D:/McDonaldObs_Feb_2024/Analysis_PCA/Analysis_18th_Feb/RUN_1\\\\SCENE_1\\\\analysis\\\\results\\\\res_local_peaks.npy',\n",
       " 'D:/McDonaldObs_Feb_2024/Analysis_PCA/Analysis_18th_Feb/RUN_2\\\\SCENE_0\\\\analysis\\\\results\\\\res_local_peaks.npy',\n",
       " 'D:/McDonaldObs_Feb_2024/Analysis_PCA/Analysis_18th_Feb/RUN_2\\\\SCENE_1\\\\analysis\\\\results\\\\res_local_peaks.npy',\n",
       " 'D:/McDonaldObs_Feb_2024/Analysis_PCA/Analysis_18th_Feb/RUN_2\\\\SCENE_2\\\\analysis\\\\results\\\\res_local_peaks.npy']"
      ]
     },
     "execution_count": 1,
     "metadata": {},
     "output_type": "execute_result"
    }
   ],
   "source": [
    "# imports\n",
    "from tqdm import tqdm # progressbar\n",
    "import os\n",
    "import numpy as np\n",
    "from astropy.stats import mad_std\n",
    "import matplotlib.pyplot as plt\n",
    "import matplotlib.image as mpimg\n",
    "import time\n",
    "\n",
    "\n",
    "# find SNR peak and image files\n",
    "path = \"D:/McDonaldObs_Feb_2024/Analysis_PCA/Analysis_18th_Feb/\"\n",
    "file_paths, img_paths = [], []\n",
    "for RUN in range(0,6):\n",
    "    for SCENE in range(0,100):\n",
    "        file_path = os.path.join(path, 'RUN_' + str(RUN), 'SCENE_' + str(SCENE), 'analysis', 'results', 'res_local_peaks.npy')\n",
    "        if os.path.exists(file_path):\n",
    "            img_path = os.path.join(path, 'RUN_' + str(RUN), 'SCENE_' + str(SCENE), 'analysis', 'closeups')\n",
    "            file_paths.append(file_path)\n",
    "            img_paths.append(img_path)\n",
    "file_paths"
   ]
  },
  {
   "cell_type": "code",
   "execution_count": null,
   "id": "3ba260bb",
   "metadata": {},
   "outputs": [],
   "source": [
    "# res_local_peaks.append([i, snr_maxs, loc_check, t_ids])\n",
    "# identify isolated peaks in each file\n",
    "for file_path, images in zip(file_paths, img_paths):\n",
    "    \n",
    "    print(file_path, images)\n",
    "    \n",
    "    # load the result file\n",
    "    res = np.load(file_path, allow_pickle=True)\n",
    "    \n",
    "    # all locations\n",
    "    peak_locs = []\n",
    "    source_ids = []\n",
    "    for i in range(len(res)):\n",
    "        source, peaks, locations, templates = res[i]\n",
    "        for loc in locations:\n",
    "            peak_locs.append(loc)\n",
    "            source_ids.append(source)\n",
    "            \n",
    "            \n",
    "    # find isolated peaks\n",
    "    window = 500 # 1875\n",
    "    peak_locs = np.array(peak_locs)\n",
    "    for i,(peak, source) in enumerate(zip(peak_locs, source_ids)):\n",
    "\n",
    "        # remove the particular peak\n",
    "        peak_locs_ = np.delete(peak_locs, i)\n",
    "        diff = np.abs(peak - peak_locs_)\n",
    "\n",
    "        # is the peak sufficiently isolated?\n",
    "        if np.all(diff > window) == True:\n",
    "            #print(source, peak)\n",
    "            #print('Isolated peak!')\n",
    "\n",
    "            # Load the .png image file\n",
    "            #subdir = file.split('/')[-1].split('_peaks')[0].split('results\\\\')[-1]\n",
    "            img_path = os.path.join(images, str(source) + '_' + str(peak) + '.png')\n",
    "            try:\n",
    "                img = mpimg.imread(img_path)\n",
    "\n",
    "                # Plot the image\n",
    "                plt.figure(figsize=(20,20))\n",
    "                plt.imshow(img)\n",
    "                plt.axis('off')  # Optional: Turn off the axes\n",
    "                plt.title(file_path)\n",
    "                plt.show()\n",
    "            except Exception as e:\n",
    "                print(e)\n",
    "                \n",
    "    #stop = input()"
   ]
  },
  {
   "cell_type": "code",
   "execution_count": null,
   "id": "2989a395",
   "metadata": {},
   "outputs": [],
   "source": []
  }
 ],
 "metadata": {
  "kernelspec": {
   "display_name": "Python 3 (ipykernel)",
   "language": "python",
   "name": "python3"
  },
  "language_info": {
   "codemirror_mode": {
    "name": "ipython",
    "version": 3
   },
   "file_extension": ".py",
   "mimetype": "text/x-python",
   "name": "python",
   "nbconvert_exporter": "python",
   "pygments_lexer": "ipython3",
   "version": "3.9.7"
  }
 },
 "nbformat": 4,
 "nbformat_minor": 5
}
